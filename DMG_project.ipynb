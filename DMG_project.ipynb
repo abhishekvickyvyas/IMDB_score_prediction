{
  "nbformat": 4,
  "nbformat_minor": 0,
  "metadata": {
    "kernelspec": {
      "display_name": "Python 3",
      "language": "python",
      "name": "python3"
    },
    "language_info": {
      "codemirror_mode": {
        "name": "ipython",
        "version": 3
      },
      "file_extension": ".py",
      "mimetype": "text/x-python",
      "name": "python",
      "nbconvert_exporter": "python",
      "pygments_lexer": "ipython3",
      "version": "3.7.3"
    },
    "colab": {
      "name": "DMG_project.ipynb",
      "provenance": [],
      "collapsed_sections": [],
      "include_colab_link": true
    }
  },
  "cells": [
    {
      "cell_type": "markdown",
      "metadata": {
        "id": "view-in-github",
        "colab_type": "text"
      },
      "source": [
        "<a href=\"https://colab.research.google.com/github/abhishekvickyvyas/IMDB_score_prediction/blob/main/DMG_project.ipynb\" target=\"_parent\"><img src=\"https://colab.research.google.com/assets/colab-badge.svg\" alt=\"Open In Colab\"/></a>"
      ]
    },
    {
      "cell_type": "code",
      "metadata": {
        "id": "vfiGUJKcgkbV",
        "outputId": "d37c7178-4bda-4cd1-ab0e-13941ebd3565",
        "colab": {
          "resources": {
            "http://localhost:8080/nbextensions/google.colab/files.js": {
              "data": "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",
              "ok": true,
              "headers": [
                [
                  "content-type",
                  "application/javascript"
                ]
              ],
              "status": 200,
              "status_text": ""
            }
          },
          "base_uri": "https://localhost:8080/",
          "height": 72
        }
      },
      "source": [
        "from google.colab import files\n",
        "uploaded = files.upload()"
      ],
      "execution_count": null,
      "outputs": [
        {
          "output_type": "display_data",
          "data": {
            "text/html": [
              "\n",
              "     <input type=\"file\" id=\"files-1cac1a0a-e4ce-43aa-8cd9-c675919b5e45\" name=\"files[]\" multiple disabled\n",
              "        style=\"border:none\" />\n",
              "     <output id=\"result-1cac1a0a-e4ce-43aa-8cd9-c675919b5e45\">\n",
              "      Upload widget is only available when the cell has been executed in the\n",
              "      current browser session. Please rerun this cell to enable.\n",
              "      </output>\n",
              "      <script src=\"/nbextensions/google.colab/files.js\"></script> "
            ],
            "text/plain": [
              "<IPython.core.display.HTML object>"
            ]
          },
          "metadata": {
            "tags": []
          }
        },
        {
          "output_type": "stream",
          "text": [
            "Saving apr.csv to apr.csv\n"
          ],
          "name": "stdout"
        }
      ]
    },
    {
      "cell_type": "code",
      "metadata": {
        "id": "uTCMc3K0Te5G",
        "outputId": "687ce499-272b-4343-e599-097b59f8c754",
        "colab": {
          "base_uri": "https://localhost:8080/"
        }
      },
      "source": [
        "from google.colab import drive\n",
        "drive.mount('/content/drive')"
      ],
      "execution_count": null,
      "outputs": [
        {
          "output_type": "stream",
          "text": [
            "Drive already mounted at /content/drive; to attempt to forcibly remount, call drive.mount(\"/content/drive\", force_remount=True).\n"
          ],
          "name": "stdout"
        }
      ]
    },
    {
      "cell_type": "markdown",
      "metadata": {
        "id": "S8MmuSQELvF3"
      },
      "source": [
        "**Read data file**"
      ]
    },
    {
      "cell_type": "code",
      "metadata": {
        "scrolled": false,
        "id": "qMyjLiUgZsNV",
        "outputId": "835ec7fe-18ac-444a-99f7-de1fb8825b59",
        "colab": {
          "base_uri": "https://localhost:8080/",
          "height": 677
        }
      },
      "source": [
        "#read Data \n",
        "import pandas as pd\n",
        "import numpy as np\n",
        "df=pd.read_csv(\"apr.csv\", header = 0)\n",
        "df"
      ],
      "execution_count": null,
      "outputs": [
        {
          "output_type": "execute_result",
          "data": {
            "text/html": [
              "<div>\n",
              "<style scoped>\n",
              "    .dataframe tbody tr th:only-of-type {\n",
              "        vertical-align: middle;\n",
              "    }\n",
              "\n",
              "    .dataframe tbody tr th {\n",
              "        vertical-align: top;\n",
              "    }\n",
              "\n",
              "    .dataframe thead th {\n",
              "        text-align: right;\n",
              "    }\n",
              "</style>\n",
              "<table border=\"1\" class=\"dataframe\">\n",
              "  <thead>\n",
              "    <tr style=\"text-align: right;\">\n",
              "      <th></th>\n",
              "      <th>color</th>\n",
              "      <th>director_name</th>\n",
              "      <th>num_critic_for_reviews</th>\n",
              "      <th>duration</th>\n",
              "      <th>director_facebook_likes</th>\n",
              "      <th>actor_3_facebook_likes</th>\n",
              "      <th>actor_2_name</th>\n",
              "      <th>actor_1_facebook_likes</th>\n",
              "      <th>gross</th>\n",
              "      <th>genres</th>\n",
              "      <th>actor_1_name</th>\n",
              "      <th>movie_title</th>\n",
              "      <th>num_voted_users</th>\n",
              "      <th>cast_total_facebook_likes</th>\n",
              "      <th>actor_3_name</th>\n",
              "      <th>facenumber_in_poster</th>\n",
              "      <th>plot_keywords</th>\n",
              "      <th>movie_imdb_link</th>\n",
              "      <th>num_user_for_reviews</th>\n",
              "      <th>language</th>\n",
              "      <th>country</th>\n",
              "      <th>content_rating</th>\n",
              "      <th>budget</th>\n",
              "      <th>title_year</th>\n",
              "      <th>actor_2_facebook_likes</th>\n",
              "      <th>imdb_score</th>\n",
              "      <th>aspect_ratio</th>\n",
              "      <th>movie_facebook_likes</th>\n",
              "    </tr>\n",
              "  </thead>\n",
              "  <tbody>\n",
              "    <tr>\n",
              "      <th>0</th>\n",
              "      <td>Color</td>\n",
              "      <td>James Cameron</td>\n",
              "      <td>723.0</td>\n",
              "      <td>178.0</td>\n",
              "      <td>0.0</td>\n",
              "      <td>855.0</td>\n",
              "      <td>Joel David Moore</td>\n",
              "      <td>1000.0</td>\n",
              "      <td>760505847.0</td>\n",
              "      <td>Action|Adventure|Fantasy|Sci-Fi</td>\n",
              "      <td>CCH Pounder</td>\n",
              "      <td>Avatar</td>\n",
              "      <td>886204</td>\n",
              "      <td>4834</td>\n",
              "      <td>Wes Studi</td>\n",
              "      <td>0.0</td>\n",
              "      <td>avatar|future|marine|native|paraplegic</td>\n",
              "      <td>http://www.imdb.com/title/tt0499549/?ref_=fn_t...</td>\n",
              "      <td>3054.0</td>\n",
              "      <td>English</td>\n",
              "      <td>USA</td>\n",
              "      <td>PG-13</td>\n",
              "      <td>237000000.0</td>\n",
              "      <td>2009.0</td>\n",
              "      <td>936.0</td>\n",
              "      <td>7.9</td>\n",
              "      <td>1.78</td>\n",
              "      <td>33000</td>\n",
              "    </tr>\n",
              "    <tr>\n",
              "      <th>1</th>\n",
              "      <td>Color</td>\n",
              "      <td>Gore Verbinski</td>\n",
              "      <td>302.0</td>\n",
              "      <td>169.0</td>\n",
              "      <td>563.0</td>\n",
              "      <td>1000.0</td>\n",
              "      <td>Orlando Bloom</td>\n",
              "      <td>40000.0</td>\n",
              "      <td>309404152.0</td>\n",
              "      <td>Action|Adventure|Fantasy</td>\n",
              "      <td>Johnny Depp</td>\n",
              "      <td>Pirates of the Caribbean: At World's End</td>\n",
              "      <td>471220</td>\n",
              "      <td>48350</td>\n",
              "      <td>Jack Davenport</td>\n",
              "      <td>0.0</td>\n",
              "      <td>goddess|marriage ceremony|marriage proposal|pi...</td>\n",
              "      <td>http://www.imdb.com/title/tt0449088/?ref_=fn_t...</td>\n",
              "      <td>1238.0</td>\n",
              "      <td>English</td>\n",
              "      <td>USA</td>\n",
              "      <td>PG-13</td>\n",
              "      <td>300000000.0</td>\n",
              "      <td>2007.0</td>\n",
              "      <td>5000.0</td>\n",
              "      <td>7.1</td>\n",
              "      <td>2.35</td>\n",
              "      <td>0</td>\n",
              "    </tr>\n",
              "    <tr>\n",
              "      <th>2</th>\n",
              "      <td>Color</td>\n",
              "      <td>Sam Mendes</td>\n",
              "      <td>602.0</td>\n",
              "      <td>148.0</td>\n",
              "      <td>0.0</td>\n",
              "      <td>161.0</td>\n",
              "      <td>Rory Kinnear</td>\n",
              "      <td>11000.0</td>\n",
              "      <td>200074175.0</td>\n",
              "      <td>Action|Adventure|Thriller</td>\n",
              "      <td>Christoph Waltz</td>\n",
              "      <td>Spectre</td>\n",
              "      <td>275868</td>\n",
              "      <td>11700</td>\n",
              "      <td>Stephanie Sigman</td>\n",
              "      <td>1.0</td>\n",
              "      <td>bomb|espionage|sequel|spy|terrorist</td>\n",
              "      <td>http://www.imdb.com/title/tt2379713/?ref_=fn_t...</td>\n",
              "      <td>994.0</td>\n",
              "      <td>English</td>\n",
              "      <td>UK</td>\n",
              "      <td>PG-13</td>\n",
              "      <td>245000000.0</td>\n",
              "      <td>2015.0</td>\n",
              "      <td>393.0</td>\n",
              "      <td>6.8</td>\n",
              "      <td>2.35</td>\n",
              "      <td>85000</td>\n",
              "    </tr>\n",
              "    <tr>\n",
              "      <th>3</th>\n",
              "      <td>Color</td>\n",
              "      <td>Christopher Nolan</td>\n",
              "      <td>813.0</td>\n",
              "      <td>164.0</td>\n",
              "      <td>22000.0</td>\n",
              "      <td>23000.0</td>\n",
              "      <td>Christian Bale</td>\n",
              "      <td>27000.0</td>\n",
              "      <td>448130642.0</td>\n",
              "      <td>Action|Thriller</td>\n",
              "      <td>Tom Hardy</td>\n",
              "      <td>The Dark Knight Rises</td>\n",
              "      <td>1144337</td>\n",
              "      <td>106759</td>\n",
              "      <td>Joseph Gordon-Levitt</td>\n",
              "      <td>0.0</td>\n",
              "      <td>deception|imprisonment|lawlessness|police offi...</td>\n",
              "      <td>http://www.imdb.com/title/tt1345836/?ref_=fn_t...</td>\n",
              "      <td>2701.0</td>\n",
              "      <td>English</td>\n",
              "      <td>USA</td>\n",
              "      <td>PG-13</td>\n",
              "      <td>250000000.0</td>\n",
              "      <td>2012.0</td>\n",
              "      <td>23000.0</td>\n",
              "      <td>8.5</td>\n",
              "      <td>2.35</td>\n",
              "      <td>164000</td>\n",
              "    </tr>\n",
              "    <tr>\n",
              "      <th>4</th>\n",
              "      <td>NaN</td>\n",
              "      <td>Doug Walker</td>\n",
              "      <td>NaN</td>\n",
              "      <td>NaN</td>\n",
              "      <td>131.0</td>\n",
              "      <td>NaN</td>\n",
              "      <td>Rob Walker</td>\n",
              "      <td>131.0</td>\n",
              "      <td>NaN</td>\n",
              "      <td>Documentary</td>\n",
              "      <td>Doug Walker</td>\n",
              "      <td>Star Wars: Episode VII - The Force Awakens    ...</td>\n",
              "      <td>8</td>\n",
              "      <td>143</td>\n",
              "      <td>NaN</td>\n",
              "      <td>0.0</td>\n",
              "      <td>NaN</td>\n",
              "      <td>http://www.imdb.com/title/tt5289954/?ref_=fn_t...</td>\n",
              "      <td>NaN</td>\n",
              "      <td>NaN</td>\n",
              "      <td>NaN</td>\n",
              "      <td>NaN</td>\n",
              "      <td>NaN</td>\n",
              "      <td>NaN</td>\n",
              "      <td>12.0</td>\n",
              "      <td>7.1</td>\n",
              "      <td>NaN</td>\n",
              "      <td>0</td>\n",
              "    </tr>\n",
              "    <tr>\n",
              "      <th>...</th>\n",
              "      <td>...</td>\n",
              "      <td>...</td>\n",
              "      <td>...</td>\n",
              "      <td>...</td>\n",
              "      <td>...</td>\n",
              "      <td>...</td>\n",
              "      <td>...</td>\n",
              "      <td>...</td>\n",
              "      <td>...</td>\n",
              "      <td>...</td>\n",
              "      <td>...</td>\n",
              "      <td>...</td>\n",
              "      <td>...</td>\n",
              "      <td>...</td>\n",
              "      <td>...</td>\n",
              "      <td>...</td>\n",
              "      <td>...</td>\n",
              "      <td>...</td>\n",
              "      <td>...</td>\n",
              "      <td>...</td>\n",
              "      <td>...</td>\n",
              "      <td>...</td>\n",
              "      <td>...</td>\n",
              "      <td>...</td>\n",
              "      <td>...</td>\n",
              "      <td>...</td>\n",
              "      <td>...</td>\n",
              "      <td>...</td>\n",
              "    </tr>\n",
              "    <tr>\n",
              "      <th>5038</th>\n",
              "      <td>Color</td>\n",
              "      <td>Scott Smith</td>\n",
              "      <td>1.0</td>\n",
              "      <td>87.0</td>\n",
              "      <td>2.0</td>\n",
              "      <td>318.0</td>\n",
              "      <td>Daphne Zuniga</td>\n",
              "      <td>637.0</td>\n",
              "      <td>NaN</td>\n",
              "      <td>Comedy|Drama</td>\n",
              "      <td>Eric Mabius</td>\n",
              "      <td>Signed Sealed Delivered</td>\n",
              "      <td>629</td>\n",
              "      <td>2283</td>\n",
              "      <td>Crystal Lowe</td>\n",
              "      <td>2.0</td>\n",
              "      <td>fraud|postal worker|prison|theft|trial</td>\n",
              "      <td>http://www.imdb.com/title/tt3000844/?ref_=fn_t...</td>\n",
              "      <td>6.0</td>\n",
              "      <td>English</td>\n",
              "      <td>Canada</td>\n",
              "      <td>NaN</td>\n",
              "      <td>NaN</td>\n",
              "      <td>2013.0</td>\n",
              "      <td>470.0</td>\n",
              "      <td>7.7</td>\n",
              "      <td>NaN</td>\n",
              "      <td>84</td>\n",
              "    </tr>\n",
              "    <tr>\n",
              "      <th>5039</th>\n",
              "      <td>Color</td>\n",
              "      <td>NaN</td>\n",
              "      <td>43.0</td>\n",
              "      <td>43.0</td>\n",
              "      <td>NaN</td>\n",
              "      <td>319.0</td>\n",
              "      <td>Valorie Curry</td>\n",
              "      <td>841.0</td>\n",
              "      <td>NaN</td>\n",
              "      <td>Crime|Drama|Mystery|Thriller</td>\n",
              "      <td>Natalie Zea</td>\n",
              "      <td>The Following</td>\n",
              "      <td>73839</td>\n",
              "      <td>1753</td>\n",
              "      <td>Sam Underwood</td>\n",
              "      <td>1.0</td>\n",
              "      <td>cult|fbi|hideout|prison escape|serial killer</td>\n",
              "      <td>http://www.imdb.com/title/tt2071645/?ref_=fn_t...</td>\n",
              "      <td>359.0</td>\n",
              "      <td>English</td>\n",
              "      <td>USA</td>\n",
              "      <td>TV-14</td>\n",
              "      <td>NaN</td>\n",
              "      <td>NaN</td>\n",
              "      <td>593.0</td>\n",
              "      <td>7.5</td>\n",
              "      <td>16.00</td>\n",
              "      <td>32000</td>\n",
              "    </tr>\n",
              "    <tr>\n",
              "      <th>5040</th>\n",
              "      <td>Color</td>\n",
              "      <td>Benjamin Roberds</td>\n",
              "      <td>13.0</td>\n",
              "      <td>76.0</td>\n",
              "      <td>0.0</td>\n",
              "      <td>0.0</td>\n",
              "      <td>Maxwell Moody</td>\n",
              "      <td>0.0</td>\n",
              "      <td>NaN</td>\n",
              "      <td>Drama|Horror|Thriller</td>\n",
              "      <td>Eva Boehnke</td>\n",
              "      <td>A Plague So Pleasant</td>\n",
              "      <td>38</td>\n",
              "      <td>0</td>\n",
              "      <td>David Chandler</td>\n",
              "      <td>0.0</td>\n",
              "      <td>NaN</td>\n",
              "      <td>http://www.imdb.com/title/tt2107644/?ref_=fn_t...</td>\n",
              "      <td>3.0</td>\n",
              "      <td>English</td>\n",
              "      <td>USA</td>\n",
              "      <td>NaN</td>\n",
              "      <td>1400.0</td>\n",
              "      <td>2013.0</td>\n",
              "      <td>0.0</td>\n",
              "      <td>6.3</td>\n",
              "      <td>NaN</td>\n",
              "      <td>16</td>\n",
              "    </tr>\n",
              "    <tr>\n",
              "      <th>5041</th>\n",
              "      <td>Color</td>\n",
              "      <td>Daniel Hsia</td>\n",
              "      <td>14.0</td>\n",
              "      <td>100.0</td>\n",
              "      <td>0.0</td>\n",
              "      <td>489.0</td>\n",
              "      <td>Daniel Henney</td>\n",
              "      <td>946.0</td>\n",
              "      <td>10443.0</td>\n",
              "      <td>Comedy|Drama|Romance</td>\n",
              "      <td>Alan Ruck</td>\n",
              "      <td>Shanghai Calling</td>\n",
              "      <td>1255</td>\n",
              "      <td>2386</td>\n",
              "      <td>Eliza Coupe</td>\n",
              "      <td>5.0</td>\n",
              "      <td>NaN</td>\n",
              "      <td>http://www.imdb.com/title/tt2070597/?ref_=fn_t...</td>\n",
              "      <td>9.0</td>\n",
              "      <td>English</td>\n",
              "      <td>USA</td>\n",
              "      <td>PG-13</td>\n",
              "      <td>NaN</td>\n",
              "      <td>2012.0</td>\n",
              "      <td>719.0</td>\n",
              "      <td>6.3</td>\n",
              "      <td>2.35</td>\n",
              "      <td>660</td>\n",
              "    </tr>\n",
              "    <tr>\n",
              "      <th>5042</th>\n",
              "      <td>Color</td>\n",
              "      <td>Jon Gunn</td>\n",
              "      <td>43.0</td>\n",
              "      <td>90.0</td>\n",
              "      <td>16.0</td>\n",
              "      <td>16.0</td>\n",
              "      <td>Brian Herzlinger</td>\n",
              "      <td>86.0</td>\n",
              "      <td>85222.0</td>\n",
              "      <td>Documentary</td>\n",
              "      <td>John August</td>\n",
              "      <td>My Date with Drew</td>\n",
              "      <td>4285</td>\n",
              "      <td>163</td>\n",
              "      <td>Jon Gunn</td>\n",
              "      <td>0.0</td>\n",
              "      <td>actress name in title|crush|date|four word tit...</td>\n",
              "      <td>http://www.imdb.com/title/tt0378407/?ref_=fn_t...</td>\n",
              "      <td>84.0</td>\n",
              "      <td>English</td>\n",
              "      <td>USA</td>\n",
              "      <td>PG</td>\n",
              "      <td>1100.0</td>\n",
              "      <td>2004.0</td>\n",
              "      <td>23.0</td>\n",
              "      <td>6.6</td>\n",
              "      <td>1.85</td>\n",
              "      <td>456</td>\n",
              "    </tr>\n",
              "  </tbody>\n",
              "</table>\n",
              "<p>5043 rows × 28 columns</p>\n",
              "</div>"
            ],
            "text/plain": [
              "      color      director_name  ...  aspect_ratio  movie_facebook_likes\n",
              "0     Color      James Cameron  ...          1.78                 33000\n",
              "1     Color     Gore Verbinski  ...          2.35                     0\n",
              "2     Color         Sam Mendes  ...          2.35                 85000\n",
              "3     Color  Christopher Nolan  ...          2.35                164000\n",
              "4       NaN        Doug Walker  ...           NaN                     0\n",
              "...     ...                ...  ...           ...                   ...\n",
              "5038  Color        Scott Smith  ...           NaN                    84\n",
              "5039  Color                NaN  ...         16.00                 32000\n",
              "5040  Color   Benjamin Roberds  ...           NaN                    16\n",
              "5041  Color        Daniel Hsia  ...          2.35                   660\n",
              "5042  Color           Jon Gunn  ...          1.85                   456\n",
              "\n",
              "[5043 rows x 28 columns]"
            ]
          },
          "metadata": {
            "tags": []
          },
          "execution_count": 6
        }
      ]
    },
    {
      "cell_type": "markdown",
      "metadata": {
        "id": "MEyEvNfYMxeH"
      },
      "source": [
        "**Remove Duplicates  rows**"
      ]
    },
    {
      "cell_type": "code",
      "metadata": {
        "id": "Qy-y7bhWbirT",
        "outputId": "375dea19-d2c6-4519-c656-6e063bb699e1",
        "colab": {
          "base_uri": "https://localhost:8080/"
        }
      },
      "source": [
        "#Remove Duplicates  rows\n",
        "# print(len(df))\n",
        "print(\"No of rows before removing duplicate rows\",len(df))\n",
        "df.drop_duplicates( subset=None, keep='first', inplace=True)\n",
        "print(\"No of rows after removing duplicate rows\",len(df))"
      ],
      "execution_count": null,
      "outputs": [
        {
          "output_type": "stream",
          "text": [
            "No of rows before removing duplicate rows 5043\n",
            "No of rows after removing duplicate rows 4998\n"
          ],
          "name": "stdout"
        }
      ]
    },
    {
      "cell_type": "markdown",
      "metadata": {
        "id": "jT4obLsjM4BY"
      },
      "source": [
        "**Find if any row have all null values** "
      ]
    },
    {
      "cell_type": "code",
      "metadata": {
        "id": "bi3C46G4EPFN"
      },
      "source": [
        "row_count, column_count = df.shape\n",
        "list_of_columns=list(df.columns)\n",
        "# print(row_count, column_count,list_of_columns[len(list_of_columns)-1])"
      ],
      "execution_count": null,
      "outputs": []
    },
    {
      "cell_type": "code",
      "metadata": {
        "id": "bCOEj5xbVNSF"
      },
      "source": [
        "kf = df.dropna(how = 'all')\n",
        "# print(df.shape,\" \",kf.shape)"
      ],
      "execution_count": null,
      "outputs": []
    },
    {
      "cell_type": "markdown",
      "metadata": {
        "id": "7smcX9BwVSv4"
      },
      "source": [
        " **#Result of analysis** here we can see that we do not have any row where all columns values are null"
      ]
    },
    {
      "cell_type": "markdown",
      "metadata": {
        "id": "CQUTuEB4MFpu"
      },
      "source": [
        "**Find Percentage of null value in each column** "
      ]
    },
    {
      "cell_type": "code",
      "metadata": {
        "id": "Q4R2jYLhZsOI",
        "outputId": "119810c0-509b-4f1c-e624-9af4aced20de",
        "colab": {
          "base_uri": "https://localhost:8080/"
        }
      },
      "source": [
        "#analysis2\n",
        "#find percentage of null values \n",
        "df_missing=df.isna()\n",
        "df_count_missing=df_missing.sum()\n",
        "per_none_value=df_count_missing/len(df_count_missing)\n",
        "per_none_value.sort_values(ascending=False,inplace=True)\n",
        "print(\"% of null values in each column\")\n",
        "print(per_none_value)"
      ],
      "execution_count": null,
      "outputs": [
        {
          "output_type": "stream",
          "text": [
            "% of null values in each column\n",
            "gross                        31.214286\n",
            "budget                       17.392857\n",
            "aspect_ratio                 11.678571\n",
            "content_rating               10.750000\n",
            "plot_keywords                 5.428571\n",
            "title_year                    3.821429\n",
            "director_name                 3.678571\n",
            "director_facebook_likes       3.678571\n",
            "num_critic_for_reviews        1.750000\n",
            "actor_3_name                  0.821429\n",
            "actor_3_facebook_likes        0.821429\n",
            "num_user_for_reviews          0.750000\n",
            "color                         0.678571\n",
            "duration                      0.535714\n",
            "facenumber_in_poster          0.464286\n",
            "actor_2_name                  0.464286\n",
            "actor_2_facebook_likes        0.464286\n",
            "language                      0.428571\n",
            "actor_1_name                  0.250000\n",
            "actor_1_facebook_likes        0.250000\n",
            "country                       0.178571\n",
            "movie_facebook_likes          0.000000\n",
            "genres                        0.000000\n",
            "movie_title                   0.000000\n",
            "num_voted_users               0.000000\n",
            "movie_imdb_link               0.000000\n",
            "imdb_score                    0.000000\n",
            "cast_total_facebook_likes     0.000000\n",
            "dtype: float64\n"
          ],
          "name": "stdout"
        }
      ]
    },
    {
      "cell_type": "markdown",
      "metadata": {
        "id": "lspNF6r7Nyou"
      },
      "source": [
        "**Gross** is \"Gross earnings of the movie in Dollars\"\n",
        "\n",
        "**budget** is \"Budget of the movie in Dollars\"\n",
        "\n",
        "**aspect_ratio** is \"Aspect ratio the movie was made in\"\n",
        "\n",
        "**content_rating** is \"Content rating of the movie\"\n",
        "\n",
        "\n",
        "\n"
      ]
    },
    {
      "cell_type": "markdown",
      "metadata": {
        "id": "fp5CVwgb0j1F"
      },
      "source": [
        "**Now We are droping the rows where the values of \"gross\" or \"budget\" \"aspect_ratio\" r \"content_rating\" is null in respective column**"
      ]
    },
    {
      "cell_type": "code",
      "metadata": {
        "id": "LQStujgM0ih3"
      },
      "source": [
        "tf1=df.drop(df[df['gross'].isna()].index, inplace = False)\n",
        "tf1=tf1.drop(tf1[tf1['budget'].isna()].index, inplace = False)"
      ],
      "execution_count": null,
      "outputs": []
    },
    {
      "cell_type": "code",
      "metadata": {
        "id": "xOQOssx7ZsOx",
        "outputId": "978f6f78-d7b8-4466-bf81-dfa95a12b2ee",
        "colab": {
          "base_uri": "https://localhost:8080/",
          "height": 34
        }
      },
      "source": [
        "# df['imdb_score']\n",
        "# tf1.shape[0]\n",
        "# (df.shape[0]-tf1.shape[0])/df.shape[0]\n",
        "#here we have deleted around 22 % of data"
      ],
      "execution_count": null,
      "outputs": [
        {
          "output_type": "execute_result",
          "data": {
            "text/plain": [
              "0.22829131652661064"
            ]
          },
          "metadata": {
            "tags": []
          },
          "execution_count": 72
        }
      ]
    },
    {
      "cell_type": "code",
      "metadata": {
        "id": "IQzcM9ad39RW",
        "outputId": "a3b88c84-499a-454a-a46b-0f3c97af8a80",
        "colab": {
          "base_uri": "https://localhost:8080/"
        }
      },
      "source": [
        "tf1=tf1.drop(tf1[tf1['aspect_ratio'].isna()].index, inplace = False)\n",
        "tf1=tf1.drop(tf1[tf1['content_rating'].isna()].index, inplace = False)\n",
        "\n",
        "tis=((df.shape[0]-tf1.shape[0])/df.shape[0])*100\n",
        "print(\"% of data rows removed on deleting rows null values in `goss`,`budget`,`aspect_ratio`,`content_rating` is \"+str(tis))\n",
        "#only around 24% so now we have deleted all rows "
      ],
      "execution_count": null,
      "outputs": [
        {
          "output_type": "stream",
          "text": [
            "% of data rows removed on deleting rows null values in `goss`,`budget`,`aspect_ratio`,`content_rating` is 24.9499799919968\n"
          ],
          "name": "stdout"
        }
      ]
    },
    {
      "cell_type": "markdown",
      "metadata": {
        "id": "ZxMj3KAMIog8"
      },
      "source": [
        "['color',\n",
        " 'director_name',\n",
        " '**num_critic_for_reviews**',\n",
        " '**duration**',\n",
        " '**director_facebook_likes**',\n",
        " '**actor_3_facebook_likes**',\n",
        " 'actor_2_name',\n",
        " '**actor_1_facebook_likes**',\n",
        " 'gross',\n",
        " 'genres',\n",
        " 'actor_1_name',\n",
        " 'movie_title',\n",
        " '**num_voted_users**',\n",
        " '**cast_total_facebook_likes**',\n",
        " 'actor_3_name',\n",
        " '**facenumber_in_poster**',\n",
        " 'plot_keywords',\n",
        " 'movie_imdb_link',\n",
        " '**num_user_for_reviews**',\n",
        " 'language',\n",
        " 'country',\n",
        " 'content_rating',\n",
        " 'budget',\n",
        " 'title_year',\n",
        " '**actor_2_facebook_likes**',\n",
        " 'imdb_score',\n",
        " 'aspect_ratio',\n",
        " '**movie_facebook_likes**']\n",
        "\n",
        "` Here we can see in table data that bold attributes may take value zero so we convert them into NA and than replace NA value of these columns with mean value of that attribute`"
      ]
    },
    {
      "cell_type": "markdown",
      "metadata": {
        "id": "a6Jwgm75OZ3K"
      },
      "source": [
        "**Replace zero with NA**"
      ]
    },
    {
      "cell_type": "code",
      "metadata": {
        "id": "BfjrALzFN_0e"
      },
      "source": [
        "#Replace zero with NA\n",
        "tf2=tf1\n",
        "ls_zero_to_NA='movie_facebook_likes','actor_2_facebook_likes','num_user_for_reviews','facenumber_in_poster','cast_total_facebook_likes','num_voted_users','actor_1_facebook_likes','actor_3_facebook_likes','director_facebook_likes','duration','num_critic_for_reviews'\n",
        "for k in ls_zero_to_NA:\n",
        "    tf2[k].replace(0, np.nan, inplace=True)"
      ],
      "execution_count": null,
      "outputs": []
    },
    {
      "cell_type": "markdown",
      "metadata": {
        "id": "G0HeukQy9bL5"
      },
      "source": [
        "**Here we are filling NA of columns with mean value**"
      ]
    },
    {
      "cell_type": "code",
      "metadata": {
        "id": "Q1Sm-zdd8ww7"
      },
      "source": [
        "for colmn in ls_zero_to_NA:\n",
        "  tf2[colmn]=tf2[colmn].fillna(tf2[colmn].mean())\n",
        "# tf2"
      ],
      "execution_count": null,
      "outputs": []
    },
    {
      "cell_type": "code",
      "metadata": {
        "id": "iYYj8iqs9-lq"
      },
      "source": [
        "tf2_missing=tf2.isna()\n",
        "tf2_count_missing=tf2_missing.sum()\n",
        "tf2_per_none_value=tf2_count_missing/len(tf2_count_missing)\n",
        "tf2_per_none_value.sort_values(ascending=False,inplace=True)\n",
        "# tf2_per_none_value\n",
        "#Now we have NA values in only these columns"
      ],
      "execution_count": null,
      "outputs": []
    },
    {
      "cell_type": "markdown",
      "metadata": {
        "id": "rjm_9zF9Dp77"
      },
      "source": [
        "**Here only four column are remainng which have NA values we replce them with most frequent values in their column**"
      ]
    },
    {
      "cell_type": "code",
      "metadata": {
        "id": "tpvyNoR5D_x1"
      },
      "source": [
        "tf2 = tf2.fillna(tf2.mode().iloc[0])"
      ],
      "execution_count": null,
      "outputs": []
    },
    {
      "cell_type": "markdown",
      "metadata": {
        "id": "gjhaELt1T1tE"
      },
      "source": [
        "# **Make Graphs to Visualise the trends in data**"
      ]
    },
    {
      "cell_type": "code",
      "metadata": {
        "id": "iSFUJHdSUMgX",
        "outputId": "217373f9-9a96-4782-8d17-20e6828fef77",
        "colab": {
          "base_uri": "https://localhost:8080/",
          "height": 281
        }
      },
      "source": [
        "import matplotlib.pyplot as plt\n",
        "x = tf2['title_year']\n",
        "plt.hist(x, bins=20)\n",
        "plt.ylabel('No of Movies released')\n",
        "plt.title('No of Movies released per year')\n",
        "plt.show()"
      ],
      "execution_count": null,
      "outputs": [
        {
          "output_type": "display_data",
          "data": {
            "image/png": "[encoded data removed]",
            "text/plain": [
              "<Figure size 432x288 with 1 Axes>"
            ]
          },
          "metadata": {
            "tags": [],
            "needs_background": "light"
          }
        }
      ]
    },
    {
      "cell_type": "code",
      "metadata": {
        "id": "Pm0drwH8V0Lr",
        "outputId": "0c836e3e-3924-4e26-c661-dc6198ce4552",
        "colab": {
          "base_uri": "https://localhost:8080/",
          "height": 264
        }
      },
      "source": [
        "x = tf2['color']\n",
        "plt.hist(x, bins=10)\n",
        "plt.ylabel('No of Movies released')\n",
        "plt.show()"
      ],
      "execution_count": null,
      "outputs": [
        {
          "output_type": "display_data",
          "data": {
            "image/png": "[encoded data removed]",
            "text/plain": [
              "<Figure size 432x288 with 1 Axes>"
            ]
          },
          "metadata": {
            "tags": []
          }
        }
      ]
    },
    {
      "cell_type": "code",
      "metadata": {
        "id": "M9An3nXCaI-h",
        "outputId": "fad684fc-e1b4-47f3-e3fd-ec1b2dd3afe7",
        "colab": {
          "base_uri": "https://localhost:8080/",
          "height": 332
        }
      },
      "source": [
        "x = tf2['country']\n",
        "plt.hist(x, bins=20,rwidth=.9)\n",
        "plt.ylabel('No of Movies released')\n",
        "plt.xticks(rotation='vertical')\n",
        "plt.show()"
      ],
      "execution_count": null,
      "outputs": [
        {
          "output_type": "display_data",
          "data": {
            "image/png": "[encoded data removed]",
            "text/plain": [
              "<Figure size 432x288 with 1 Axes>"
            ]
          },
          "metadata": {
            "tags": []
          }
        }
      ]
    },
    {
      "cell_type": "code",
      "metadata": {
        "id": "6zxwqY04cpAE",
        "outputId": "65d99a33-b498-4eea-9ef7-071085df2ff5",
        "colab": {
          "base_uri": "https://localhost:8080/",
          "height": 314
        }
      },
      "source": [
        "x = tf2['language']\n",
        "plt.hist(x, bins=20,rwidth=.9)\n",
        "plt.ylabel('No of Movies released in language')\n",
        "plt.xticks(rotation='vertical')\n",
        "plt.show()"
      ],
      "execution_count": null,
      "outputs": [
        {
          "output_type": "display_data",
          "data": {
            "image/png": "[encoded data removed]",
            "text/plain": [
              "<Figure size 432x288 with 1 Axes>"
            ]
          },
          "metadata": {
            "tags": []
          }
        }
      ]
    },
    {
      "cell_type": "markdown",
      "metadata": {
        "id": "A-lB7Sond2RX"
      },
      "source": [
        "**Add profit and profit percentage column for graphs and will drop these columns too before applying algorithems**"
      ]
    },
    {
      "cell_type": "code",
      "metadata": {
        "id": "6GVoWcr0d0jd"
      },
      "source": [
        "tf2['profit'] = tf2.apply(lambda row: row.gross - row.budget, axis = 1)\n",
        "tf2['profit_percentage'] = tf2.apply(lambda row: (row.profit/row.budget)*100, axis = 1) \n",
        "# tf2"
      ],
      "execution_count": null,
      "outputs": []
    },
    {
      "cell_type": "code",
      "metadata": {
        "id": "2NM51VAxihne"
      },
      "source": [
        "group_by_imdb_score = tf2.groupby(by=['imdb_score'])\n",
        "tf2_avg = group_by_imdb_score.mean()\n",
        "tf2_count = group_by_imdb_score.count()"
      ],
      "execution_count": null,
      "outputs": []
    },
    {
      "cell_type": "code",
      "metadata": {
        "id": "OjgYXx0zlZaJ",
        "outputId": "8cf38358-235e-4b1c-aef8-fd9383949ae4",
        "colab": {
          "base_uri": "https://localhost:8080/",
          "height": 280
        }
      },
      "source": [
        "tf2_avg['num_critic_for_reviews'].plot(kind='line')\n",
        "# df.groupby('state')['name'].nunique().plot(kind='bar')\n",
        "# plt.hist(x, bins=20,rwidth=.9)\n",
        "plt.ylabel('Average number of critic_for_reviews')\n",
        "# plt.xticks(rotation='vertical')\n",
        "plt.show()"
      ],
      "execution_count": null,
      "outputs": [
        {
          "output_type": "display_data",
          "data": {
            "image/png": "[encoded data removed]",
            "text/plain": [
              "<Figure size 432x288 with 1 Axes>"
            ]
          },
          "metadata": {
            "tags": []
          }
        }
      ]
    },
    {
      "cell_type": "code",
      "metadata": {
        "id": "wB33cFZNrEW6",
        "outputId": "2812734c-d87d-4c7f-d666-1cf354ccb6d8",
        "colab": {
          "base_uri": "https://localhost:8080/",
          "height": 291
        }
      },
      "source": [
        "tf2_avg['budget'].plot(kind='line')\n",
        "# df.groupby('state')['name'].nunique().plot(kind='bar')\n",
        "# plt.hist(x, bins=20,rwidth=.9)\n",
        "plt.ylabel('Average budget')\n",
        "# plt.xticks(rotation='vertical')\n",
        "plt.show()"
      ],
      "execution_count": null,
      "outputs": [
        {
          "output_type": "display_data",
          "data": {
            "image/png": "[encoded data removed]",
            "text/plain": [
              "<Figure size 432x288 with 1 Axes>"
            ]
          },
          "metadata": {
            "tags": []
          }
        }
      ]
    },
    {
      "cell_type": "code",
      "metadata": {
        "id": "QN6-5QPjrlIw",
        "outputId": "dce5dd88-84cb-40e9-b8c0-d782258d088e",
        "colab": {
          "base_uri": "https://localhost:8080/",
          "height": 291
        }
      },
      "source": [
        "tf2_avg['gross'].plot(kind='line')\n",
        "# df.groupby('state')['name'].nunique().plot(kind='bar')\n",
        "# plt.hist(x, bins=20,rwidth=.9)\n",
        "plt.ylabel('Average gross')\n",
        "# plt.xticks(rotation='vertical')\n",
        "plt.show()"
      ],
      "execution_count": null,
      "outputs": [
        {
          "output_type": "display_data",
          "data": {
            "image/png": "[encoded data removed]",
            "text/plain": [
              "<Figure size 432x288 with 1 Axes>"
            ]
          },
          "metadata": {
            "tags": []
          }
        }
      ]
    },
    {
      "cell_type": "code",
      "metadata": {
        "id": "kGWMRT1br_CQ",
        "outputId": "8b3ef502-e52f-41cc-e695-09501b9f0cdb",
        "colab": {
          "base_uri": "https://localhost:8080/",
          "height": 280
        }
      },
      "source": [
        "tf2_avg['facenumber_in_poster'].plot(kind='line')\n",
        "# df.groupby('state')['name'].nunique().plot(kind='bar')\n",
        "# plt.hist(x, bins=20,rwidth=.9)\n",
        "plt.ylabel('Average facenumber_in_poster')\n",
        "# plt.xticks(rotation='vertical')\n",
        "plt.show()"
      ],
      "execution_count": null,
      "outputs": [
        {
          "output_type": "display_data",
          "data": {
            "image/png": "[encoded data removed]",
            "text/plain": [
              "<Figure size 432x288 with 1 Axes>"
            ]
          },
          "metadata": {
            "tags": []
          }
        }
      ]
    },
    {
      "cell_type": "code",
      "metadata": {
        "id": "104W5-WJLsRj",
        "outputId": "8b60bd54-d0c5-4a5a-b641-2438a084450f",
        "colab": {
          "base_uri": "https://localhost:8080/",
          "height": 291
        }
      },
      "source": [
        "tf2_avg['profit'].plot(kind='line')\n",
        "# df.groupby('state')['name'].nunique().plot(kind='bar')\n",
        "# plt.hist(x, bins=20,rwidth=.9)\n",
        "plt.ylabel('Average profit')\n",
        "# plt.xticks(rotation='vertical')\n",
        "plt.show()"
      ],
      "execution_count": null,
      "outputs": [
        {
          "output_type": "display_data",
          "data": {
            "image/png": "[encoded data removed]",
            "text/plain": [
              "<Figure size 432x288 with 1 Axes>"
            ]
          },
          "metadata": {
            "tags": []
          }
        }
      ]
    },
    {
      "cell_type": "markdown",
      "metadata": {
        "id": "oE2-RxhkLv9o"
      },
      "source": [
        "From above images we can see that most of the movies are **color** attribute as \"color\" ,and **country** attribute is \"USA\",most of the movies in data have **langauge** atribute as \"english\" so they are not much useful for classification.\n",
        "\n",
        "Other Attributes as **movie_title** ,**aspect_ratio**,**number of faces**, **movie_imdb_link** (as we have seen in *tableau*) are not affecting IMDB score. we will also remove these attributes.**title_year** is also not afffecting the IMDB score but budget is increasing according to its values so we are not removing it.\n"
      ]
    },
    {
      "cell_type": "code",
      "metadata": {
        "id": "5Tl5juLpEao3",
        "outputId": "9fd47f8e-099f-4d91-e0e8-30bf17fc1204",
        "colab": {
          "base_uri": "https://localhost:8080/",
          "height": 34
        }
      },
      "source": [
        "unique_count_of_director_name=tf2['director_name'].nunique()\n",
        "unique_count_of_actor_1_name=tf2['actor_1_name'].nunique()\n",
        "unique_count_of_actor_2_name=tf2['actor_2_name'].nunique()\n",
        "unique_count_of_actor_3_name=tf2['actor_3_name'].nunique()\n",
        "unique_count_of_plot_keywords=tf2['plot_keywords'].nunique()\n",
        "print(unique_count_of_director_name,unique_count_of_actor_1_name,unique_count_of_actor_2_name,unique_count_of_actor_3_name,unique_count_of_plot_keywords)"
      ],
      "execution_count": null,
      "outputs": [
        {
          "output_type": "stream",
          "text": [
            "1672 1445 2210 2602 3669\n"
          ],
          "name": "stdout"
        }
      ]
    },
    {
      "cell_type": "markdown",
      "metadata": {
        "id": "3pjhitmtFUgc"
      },
      "source": [
        "**As we can see unique count of above four variable is high so we will also remove these variable too**"
      ]
    },
    {
      "cell_type": "code",
      "metadata": {
        "id": "2MKk6_nKZsPR"
      },
      "source": [
        "# # df['movie_title'][6].replace(\"\\xa0\", \"\", regex=True)\n",
        "# s = pd.Series(df['movie_title'])\n",
        "# s = pd.Series(df['movie_title']) \n",
        "# k=s.replace(\"\\xa0\", \"\", regex=True)\n",
        "# df['movie_title']=k\n",
        "# #we can see some character at last of it"
      ],
      "execution_count": null,
      "outputs": []
    },
    {
      "cell_type": "markdown",
      "metadata": {
        "id": "UaGFpwYg7OIf"
      },
      "source": [
        "**checking affect of Splited genres on IMDB score**"
      ]
    },
    {
      "cell_type": "code",
      "metadata": {
        "id": "sO157tjjZsRI"
      },
      "source": [
        "# # Split Genres\n",
        "genres_tf2 = tf2[[\"genres\", \"imdb_score\"]].copy()\n",
        "kp=genres_tf2['genres'].str.split(\"|\", n=-1, expand=False)\n",
        "kp1=list(map(set,kp))\n",
        "new_colm=list(set.union(*kp1))"
      ],
      "execution_count": null,
      "outputs": []
    },
    {
      "cell_type": "markdown",
      "metadata": {
        "id": "oSDPiUb0hH7V"
      },
      "source": [
        "Add genre colums having value 1 if it is else 0"
      ]
    },
    {
      "cell_type": "code",
      "metadata": {
        "id": "pvV7hX7EZsSd"
      },
      "source": [
        "for add_col in new_colm:\n",
        "  if add_col not in genres_tf2.columns:\n",
        "    genres_tf2[add_col]=genres_tf2.apply(lambda row:  1 if (add_col in row.genres) else 0  , axis = 1)"
      ],
      "execution_count": null,
      "outputs": []
    },
    {
      "cell_type": "code",
      "metadata": {
        "id": "X669zTUQwI4n",
        "outputId": "f7c6b17e-2530-4471-c848-7c0564923799",
        "colab": {
          "base_uri": "https://localhost:8080/",
          "height": 501
        }
      },
      "source": [
        "dict_imdb_genres={}\n",
        "for k in genres_tf2:\n",
        "  if(k!='imdb_score'):\n",
        "    dict_imdb_genres[k]=genres_tf2.loc[genres_tf2[k] == 1, 'imdb_score'].mean()\n",
        "x_plot=list(dict_imdb_genres.keys())\n",
        "y_plot=list(dict_imdb_genres.values())\n",
        "fig, ax = plt.subplots(figsize=(15, 8))\n",
        "ax.barh(x_plot, y_plot)"
      ],
      "execution_count": null,
      "outputs": [
        {
          "output_type": "execute_result",
          "data": {
            "text/plain": [
              "<BarContainer object of 23 artists>"
            ]
          },
          "metadata": {
            "tags": []
          },
          "execution_count": 29
        },
        {
          "output_type": "display_data",
          "data": {
            "image/png": "[encoded data removed]",
            "text/plain": [
              "<Figure size 1080x576 with 1 Axes>"
            ]
          },
          "metadata": {
            "tags": []
          }
        }
      ]
    },
    {
      "cell_type": "markdown",
      "metadata": {
        "id": "IapmIFoN7rC5"
      },
      "source": [
        "**Here We can see that imdb_score is almost same for all genres so we will drop this column too during applying algorithems and do not and splited genres in main data**"
      ]
    },
    {
      "cell_type": "code",
      "metadata": {
        "id": "XPHK3XZxUOeg",
        "outputId": "5ad5e798-2f5a-4119-b1a6-c6b91c0e2470",
        "colab": {
          "base_uri": "https://localhost:8080/",
          "height": 426
        }
      },
      "source": [
        "to_remove_column=['country','profit','profit_percentage','movie_imdb_link','facenumber_in_poster','aspect_ratio','movie_title','language','color','director_name','actor_1_name','actor_2_name','actor_2_name','actor_3_name','plot_keywords']\n",
        "for i in to_remove_column:\n",
        "    if i in tf2.columns:\n",
        "        tf2=tf2.drop(columns=[i])\n",
        "#  tf2=tf2.drop(columns=[i])        \n",
        "classification_data=tf2\n",
        "# classification_data=encode_the_data(kf_test)\n",
        "classification_data"
      ],
      "execution_count": null,
      "outputs": [
        {
          "output_type": "execute_result",
          "data": {
            "text/html": [
              "<div>\n",
              "<style scoped>\n",
              "    .dataframe tbody tr th:only-of-type {\n",
              "        vertical-align: middle;\n",
              "    }\n",
              "\n",
              "    .dataframe tbody tr th {\n",
              "        vertical-align: top;\n",
              "    }\n",
              "\n",
              "    .dataframe thead th {\n",
              "        text-align: right;\n",
              "    }\n",
              "</style>\n",
              "<table border=\"1\" class=\"dataframe\">\n",
              "  <thead>\n",
              "    <tr style=\"text-align: right;\">\n",
              "      <th></th>\n",
              "      <th>num_critic_for_reviews</th>\n",
              "      <th>duration</th>\n",
              "      <th>director_facebook_likes</th>\n",
              "      <th>actor_3_facebook_likes</th>\n",
              "      <th>actor_1_facebook_likes</th>\n",
              "      <th>gross</th>\n",
              "      <th>genres</th>\n",
              "      <th>num_voted_users</th>\n",
              "      <th>cast_total_facebook_likes</th>\n",
              "      <th>num_user_for_reviews</th>\n",
              "      <th>content_rating</th>\n",
              "      <th>budget</th>\n",
              "      <th>title_year</th>\n",
              "      <th>actor_2_facebook_likes</th>\n",
              "      <th>imdb_score</th>\n",
              "      <th>movie_facebook_likes</th>\n",
              "    </tr>\n",
              "  </thead>\n",
              "  <tbody>\n",
              "    <tr>\n",
              "      <th>0</th>\n",
              "      <td>723.0</td>\n",
              "      <td>178.0</td>\n",
              "      <td>969.903568</td>\n",
              "      <td>855.000000</td>\n",
              "      <td>1000.0</td>\n",
              "      <td>760505847.0</td>\n",
              "      <td>Action|Adventure|Fantasy|Sci-Fi</td>\n",
              "      <td>886204</td>\n",
              "      <td>4834.0</td>\n",
              "      <td>3054.0</td>\n",
              "      <td>PG-13</td>\n",
              "      <td>237000000.0</td>\n",
              "      <td>2009.0</td>\n",
              "      <td>936.000000</td>\n",
              "      <td>7.9</td>\n",
              "      <td>33000.000000</td>\n",
              "    </tr>\n",
              "    <tr>\n",
              "      <th>1</th>\n",
              "      <td>302.0</td>\n",
              "      <td>169.0</td>\n",
              "      <td>563.000000</td>\n",
              "      <td>1000.000000</td>\n",
              "      <td>40000.0</td>\n",
              "      <td>309404152.0</td>\n",
              "      <td>Action|Adventure|Fantasy</td>\n",
              "      <td>471220</td>\n",
              "      <td>48350.0</td>\n",
              "      <td>1238.0</td>\n",
              "      <td>PG-13</td>\n",
              "      <td>300000000.0</td>\n",
              "      <td>2007.0</td>\n",
              "      <td>5000.000000</td>\n",
              "      <td>7.1</td>\n",
              "      <td>17343.839126</td>\n",
              "    </tr>\n",
              "    <tr>\n",
              "      <th>2</th>\n",
              "      <td>602.0</td>\n",
              "      <td>148.0</td>\n",
              "      <td>969.903568</td>\n",
              "      <td>161.000000</td>\n",
              "      <td>11000.0</td>\n",
              "      <td>200074175.0</td>\n",
              "      <td>Action|Adventure|Thriller</td>\n",
              "      <td>275868</td>\n",
              "      <td>11700.0</td>\n",
              "      <td>994.0</td>\n",
              "      <td>PG-13</td>\n",
              "      <td>245000000.0</td>\n",
              "      <td>2015.0</td>\n",
              "      <td>393.000000</td>\n",
              "      <td>6.8</td>\n",
              "      <td>85000.000000</td>\n",
              "    </tr>\n",
              "    <tr>\n",
              "      <th>3</th>\n",
              "      <td>813.0</td>\n",
              "      <td>164.0</td>\n",
              "      <td>22000.000000</td>\n",
              "      <td>23000.000000</td>\n",
              "      <td>27000.0</td>\n",
              "      <td>448130642.0</td>\n",
              "      <td>Action|Thriller</td>\n",
              "      <td>1144337</td>\n",
              "      <td>106759.0</td>\n",
              "      <td>2701.0</td>\n",
              "      <td>PG-13</td>\n",
              "      <td>250000000.0</td>\n",
              "      <td>2012.0</td>\n",
              "      <td>23000.000000</td>\n",
              "      <td>8.5</td>\n",
              "      <td>164000.000000</td>\n",
              "    </tr>\n",
              "    <tr>\n",
              "      <th>5</th>\n",
              "      <td>462.0</td>\n",
              "      <td>132.0</td>\n",
              "      <td>475.000000</td>\n",
              "      <td>530.000000</td>\n",
              "      <td>640.0</td>\n",
              "      <td>73058679.0</td>\n",
              "      <td>Action|Adventure|Sci-Fi</td>\n",
              "      <td>212204</td>\n",
              "      <td>1873.0</td>\n",
              "      <td>738.0</td>\n",
              "      <td>PG-13</td>\n",
              "      <td>263700000.0</td>\n",
              "      <td>2012.0</td>\n",
              "      <td>632.000000</td>\n",
              "      <td>6.6</td>\n",
              "      <td>24000.000000</td>\n",
              "    </tr>\n",
              "    <tr>\n",
              "      <th>...</th>\n",
              "      <td>...</td>\n",
              "      <td>...</td>\n",
              "      <td>...</td>\n",
              "      <td>...</td>\n",
              "      <td>...</td>\n",
              "      <td>...</td>\n",
              "      <td>...</td>\n",
              "      <td>...</td>\n",
              "      <td>...</td>\n",
              "      <td>...</td>\n",
              "      <td>...</td>\n",
              "      <td>...</td>\n",
              "      <td>...</td>\n",
              "      <td>...</td>\n",
              "      <td>...</td>\n",
              "      <td>...</td>\n",
              "    </tr>\n",
              "    <tr>\n",
              "      <th>5026</th>\n",
              "      <td>81.0</td>\n",
              "      <td>110.0</td>\n",
              "      <td>107.000000</td>\n",
              "      <td>45.000000</td>\n",
              "      <td>576.0</td>\n",
              "      <td>136007.0</td>\n",
              "      <td>Drama|Music|Romance</td>\n",
              "      <td>3924</td>\n",
              "      <td>776.0</td>\n",
              "      <td>39.0</td>\n",
              "      <td>R</td>\n",
              "      <td>4500.0</td>\n",
              "      <td>2004.0</td>\n",
              "      <td>133.000000</td>\n",
              "      <td>6.9</td>\n",
              "      <td>171.000000</td>\n",
              "    </tr>\n",
              "    <tr>\n",
              "      <th>5027</th>\n",
              "      <td>64.0</td>\n",
              "      <td>90.0</td>\n",
              "      <td>397.000000</td>\n",
              "      <td>767.746369</td>\n",
              "      <td>5.0</td>\n",
              "      <td>673780.0</td>\n",
              "      <td>Drama</td>\n",
              "      <td>4555</td>\n",
              "      <td>5.0</td>\n",
              "      <td>26.0</td>\n",
              "      <td>Not Rated</td>\n",
              "      <td>10000.0</td>\n",
              "      <td>2000.0</td>\n",
              "      <td>2005.803481</td>\n",
              "      <td>7.5</td>\n",
              "      <td>697.000000</td>\n",
              "    </tr>\n",
              "    <tr>\n",
              "      <th>5033</th>\n",
              "      <td>143.0</td>\n",
              "      <td>77.0</td>\n",
              "      <td>291.000000</td>\n",
              "      <td>8.000000</td>\n",
              "      <td>291.0</td>\n",
              "      <td>424760.0</td>\n",
              "      <td>Drama|Sci-Fi|Thriller</td>\n",
              "      <td>72639</td>\n",
              "      <td>368.0</td>\n",
              "      <td>371.0</td>\n",
              "      <td>PG-13</td>\n",
              "      <td>7000.0</td>\n",
              "      <td>2004.0</td>\n",
              "      <td>45.000000</td>\n",
              "      <td>7.0</td>\n",
              "      <td>19000.000000</td>\n",
              "    </tr>\n",
              "    <tr>\n",
              "      <th>5035</th>\n",
              "      <td>56.0</td>\n",
              "      <td>81.0</td>\n",
              "      <td>969.903568</td>\n",
              "      <td>6.000000</td>\n",
              "      <td>121.0</td>\n",
              "      <td>2040920.0</td>\n",
              "      <td>Action|Crime|Drama|Romance|Thriller</td>\n",
              "      <td>52055</td>\n",
              "      <td>147.0</td>\n",
              "      <td>130.0</td>\n",
              "      <td>R</td>\n",
              "      <td>7000.0</td>\n",
              "      <td>1992.0</td>\n",
              "      <td>20.000000</td>\n",
              "      <td>6.9</td>\n",
              "      <td>17343.839126</td>\n",
              "    </tr>\n",
              "    <tr>\n",
              "      <th>5042</th>\n",
              "      <td>43.0</td>\n",
              "      <td>90.0</td>\n",
              "      <td>16.000000</td>\n",
              "      <td>16.000000</td>\n",
              "      <td>86.0</td>\n",
              "      <td>85222.0</td>\n",
              "      <td>Documentary</td>\n",
              "      <td>4285</td>\n",
              "      <td>163.0</td>\n",
              "      <td>84.0</td>\n",
              "      <td>PG</td>\n",
              "      <td>1100.0</td>\n",
              "      <td>2004.0</td>\n",
              "      <td>23.000000</td>\n",
              "      <td>6.6</td>\n",
              "      <td>456.000000</td>\n",
              "    </tr>\n",
              "  </tbody>\n",
              "</table>\n",
              "<p>3751 rows × 16 columns</p>\n",
              "</div>"
            ],
            "text/plain": [
              "      num_critic_for_reviews  duration  ...  imdb_score  movie_facebook_likes\n",
              "0                      723.0     178.0  ...         7.9          33000.000000\n",
              "1                      302.0     169.0  ...         7.1          17343.839126\n",
              "2                      602.0     148.0  ...         6.8          85000.000000\n",
              "3                      813.0     164.0  ...         8.5         164000.000000\n",
              "5                      462.0     132.0  ...         6.6          24000.000000\n",
              "...                      ...       ...  ...         ...                   ...\n",
              "5026                    81.0     110.0  ...         6.9            171.000000\n",
              "5027                    64.0      90.0  ...         7.5            697.000000\n",
              "5033                   143.0      77.0  ...         7.0          19000.000000\n",
              "5035                    56.0      81.0  ...         6.9          17343.839126\n",
              "5042                    43.0      90.0  ...         6.6            456.000000\n",
              "\n",
              "[3751 rows x 16 columns]"
            ]
          },
          "metadata": {
            "tags": []
          },
          "execution_count": 30
        }
      ]
    },
    {
      "cell_type": "code",
      "metadata": {
        "id": "y-sVcxrvqDD6"
      },
      "source": [
        "# classification_data['imdb_score']=classification_data.apply(lambda row:'D' if ( int(row.imdb_score)>=0 and int(row.imdb_score)<5) else ('C' if (int(row.imdb_score)>=5 and int(row.imdb_score)<6) else ('B' if (int(row.imdb_score)>=5 and int(row.imdb_score)<6) else ('B++' if (int(row.imdb_score)>=6 and int(row.imdb_score)<7) else ('A' if (int(row.imdb_score)>=7 and int(row.imdb_score)<8) else ('A++' if (int(row.imdb_score)>=8 and int(row.imdb_score)<=10) else 0 )) )))  , axis = 1)"
      ],
      "execution_count": null,
      "outputs": []
    },
    {
      "cell_type": "code",
      "metadata": {
        "id": "vpxdwkR8cWtM"
      },
      "source": [
        "# classification_data['imdb_score']=classification_data.apply(lambda row:'D' if ( int(row.imdb_score)>=0 and int(row.imdb_score)<5) else ('C' if (int(row.imdb_score)>=5 and int(row.imdb_score)<6) else ('B' if (int(row.imdb_score)>=6 and int(row.imdb_score)<7) else ('A' if (int(row.imdb_score)>=7 and int(row.imdb_score)<8) else ('A++' if (int(row.imdb_score)>=8 and int(row.imdb_score)<=10) else 0) )))  , axis = 1)"
      ],
      "execution_count": null,
      "outputs": []
    },
    {
      "cell_type": "code",
      "metadata": {
        "id": "k5VbZ5w5MlE5"
      },
      "source": [
        "# classification_data['imdb_score']=classification_data.apply(lambda row:  'D' if ( int(row.imdb_score)>=0 and int(row.imdb_score)<5) else ('C' if (int(row.imdb_score)>=5 and int(row.imdb_score)<=7) else ('B' if (int(row.imdb_score)>=7 and int(row.imdb_score)<8) else ('A' if (int(row.imdb_score)>=8 and int(row.imdb_score)<=10) else 0 )))  , axis = 1)"
      ],
      "execution_count": null,
      "outputs": []
    },
    {
      "cell_type": "code",
      "metadata": {
        "id": "LdoGjnx_Z6FZ"
      },
      "source": [
        "# classification_data['imdb_score']=classification_data.apply(lambda row:  'D' if ( int(row.imdb_score)>=0 and int(row.imdb_score)<5) else ('C' if (int(row.imdb_score)>=5 and int(row.imdb_score)<6) else ('B' if (int(row.imdb_score)>=7 and int(row.imdb_score)<8) else ('A' if (int(row.imdb_score)>=8 and int(row.imdb_score)<=10) else 0 )))  , axis = 1)"
      ],
      "execution_count": null,
      "outputs": []
    },
    {
      "cell_type": "code",
      "metadata": {
        "id": "nBxOG8NnrClY"
      },
      "source": [
        "classification_data['imdb_score']=classification_data.apply(lambda row:  'D' if ( int(row.imdb_score)>=0 and int(row.imdb_score)<5) else ('C' if (int(row.imdb_score)>=5 and int(row.imdb_score)<6) else ('B' if (int(row.imdb_score)>=7 and int(row.imdb_score)<8) else ('A' if (int(row.imdb_score)>=8 and int(row.imdb_score)<=10) else 0 )))  , axis = 1)"
      ],
      "execution_count": null,
      "outputs": []
    },
    {
      "cell_type": "code",
      "metadata": {
        "id": "ZhSZOOsboiXP"
      },
      "source": [
        "classification_data=tf2"
      ],
      "execution_count": null,
      "outputs": []
    },
    {
      "cell_type": "code",
      "metadata": {
        "id": "ZnwbDP4eoiL9",
        "outputId": "66149f79-50c9-4fc0-c518-02fc19d29c40",
        "colab": {
          "base_uri": "https://localhost:8080/",
          "height": 426
        }
      },
      "source": [
        "classification_data"
      ],
      "execution_count": null,
      "outputs": [
        {
          "output_type": "execute_result",
          "data": {
            "text/html": [
              "<div>\n",
              "<style scoped>\n",
              "    .dataframe tbody tr th:only-of-type {\n",
              "        vertical-align: middle;\n",
              "    }\n",
              "\n",
              "    .dataframe tbody tr th {\n",
              "        vertical-align: top;\n",
              "    }\n",
              "\n",
              "    .dataframe thead th {\n",
              "        text-align: right;\n",
              "    }\n",
              "</style>\n",
              "<table border=\"1\" class=\"dataframe\">\n",
              "  <thead>\n",
              "    <tr style=\"text-align: right;\">\n",
              "      <th></th>\n",
              "      <th>num_critic_for_reviews</th>\n",
              "      <th>duration</th>\n",
              "      <th>director_facebook_likes</th>\n",
              "      <th>actor_3_facebook_likes</th>\n",
              "      <th>actor_1_facebook_likes</th>\n",
              "      <th>gross</th>\n",
              "      <th>genres</th>\n",
              "      <th>num_voted_users</th>\n",
              "      <th>cast_total_facebook_likes</th>\n",
              "      <th>num_user_for_reviews</th>\n",
              "      <th>content_rating</th>\n",
              "      <th>budget</th>\n",
              "      <th>title_year</th>\n",
              "      <th>actor_2_facebook_likes</th>\n",
              "      <th>imdb_score</th>\n",
              "      <th>movie_facebook_likes</th>\n",
              "    </tr>\n",
              "  </thead>\n",
              "  <tbody>\n",
              "    <tr>\n",
              "      <th>0</th>\n",
              "      <td>723.0</td>\n",
              "      <td>178.0</td>\n",
              "      <td>969.903568</td>\n",
              "      <td>855.000000</td>\n",
              "      <td>1000.0</td>\n",
              "      <td>760505847.0</td>\n",
              "      <td>Action|Adventure|Fantasy|Sci-Fi</td>\n",
              "      <td>886204</td>\n",
              "      <td>4834.0</td>\n",
              "      <td>3054.0</td>\n",
              "      <td>PG-13</td>\n",
              "      <td>237000000.0</td>\n",
              "      <td>2009.0</td>\n",
              "      <td>936.000000</td>\n",
              "      <td>7.9</td>\n",
              "      <td>33000.000000</td>\n",
              "    </tr>\n",
              "    <tr>\n",
              "      <th>1</th>\n",
              "      <td>302.0</td>\n",
              "      <td>169.0</td>\n",
              "      <td>563.000000</td>\n",
              "      <td>1000.000000</td>\n",
              "      <td>40000.0</td>\n",
              "      <td>309404152.0</td>\n",
              "      <td>Action|Adventure|Fantasy</td>\n",
              "      <td>471220</td>\n",
              "      <td>48350.0</td>\n",
              "      <td>1238.0</td>\n",
              "      <td>PG-13</td>\n",
              "      <td>300000000.0</td>\n",
              "      <td>2007.0</td>\n",
              "      <td>5000.000000</td>\n",
              "      <td>7.1</td>\n",
              "      <td>17343.839126</td>\n",
              "    </tr>\n",
              "    <tr>\n",
              "      <th>2</th>\n",
              "      <td>602.0</td>\n",
              "      <td>148.0</td>\n",
              "      <td>969.903568</td>\n",
              "      <td>161.000000</td>\n",
              "      <td>11000.0</td>\n",
              "      <td>200074175.0</td>\n",
              "      <td>Action|Adventure|Thriller</td>\n",
              "      <td>275868</td>\n",
              "      <td>11700.0</td>\n",
              "      <td>994.0</td>\n",
              "      <td>PG-13</td>\n",
              "      <td>245000000.0</td>\n",
              "      <td>2015.0</td>\n",
              "      <td>393.000000</td>\n",
              "      <td>6.8</td>\n",
              "      <td>85000.000000</td>\n",
              "    </tr>\n",
              "    <tr>\n",
              "      <th>3</th>\n",
              "      <td>813.0</td>\n",
              "      <td>164.0</td>\n",
              "      <td>22000.000000</td>\n",
              "      <td>23000.000000</td>\n",
              "      <td>27000.0</td>\n",
              "      <td>448130642.0</td>\n",
              "      <td>Action|Thriller</td>\n",
              "      <td>1144337</td>\n",
              "      <td>106759.0</td>\n",
              "      <td>2701.0</td>\n",
              "      <td>PG-13</td>\n",
              "      <td>250000000.0</td>\n",
              "      <td>2012.0</td>\n",
              "      <td>23000.000000</td>\n",
              "      <td>8.5</td>\n",
              "      <td>164000.000000</td>\n",
              "    </tr>\n",
              "    <tr>\n",
              "      <th>5</th>\n",
              "      <td>462.0</td>\n",
              "      <td>132.0</td>\n",
              "      <td>475.000000</td>\n",
              "      <td>530.000000</td>\n",
              "      <td>640.0</td>\n",
              "      <td>73058679.0</td>\n",
              "      <td>Action|Adventure|Sci-Fi</td>\n",
              "      <td>212204</td>\n",
              "      <td>1873.0</td>\n",
              "      <td>738.0</td>\n",
              "      <td>PG-13</td>\n",
              "      <td>263700000.0</td>\n",
              "      <td>2012.0</td>\n",
              "      <td>632.000000</td>\n",
              "      <td>6.6</td>\n",
              "      <td>24000.000000</td>\n",
              "    </tr>\n",
              "    <tr>\n",
              "      <th>...</th>\n",
              "      <td>...</td>\n",
              "      <td>...</td>\n",
              "      <td>...</td>\n",
              "      <td>...</td>\n",
              "      <td>...</td>\n",
              "      <td>...</td>\n",
              "      <td>...</td>\n",
              "      <td>...</td>\n",
              "      <td>...</td>\n",
              "      <td>...</td>\n",
              "      <td>...</td>\n",
              "      <td>...</td>\n",
              "      <td>...</td>\n",
              "      <td>...</td>\n",
              "      <td>...</td>\n",
              "      <td>...</td>\n",
              "    </tr>\n",
              "    <tr>\n",
              "      <th>5026</th>\n",
              "      <td>81.0</td>\n",
              "      <td>110.0</td>\n",
              "      <td>107.000000</td>\n",
              "      <td>45.000000</td>\n",
              "      <td>576.0</td>\n",
              "      <td>136007.0</td>\n",
              "      <td>Drama|Music|Romance</td>\n",
              "      <td>3924</td>\n",
              "      <td>776.0</td>\n",
              "      <td>39.0</td>\n",
              "      <td>R</td>\n",
              "      <td>4500.0</td>\n",
              "      <td>2004.0</td>\n",
              "      <td>133.000000</td>\n",
              "      <td>6.9</td>\n",
              "      <td>171.000000</td>\n",
              "    </tr>\n",
              "    <tr>\n",
              "      <th>5027</th>\n",
              "      <td>64.0</td>\n",
              "      <td>90.0</td>\n",
              "      <td>397.000000</td>\n",
              "      <td>767.746369</td>\n",
              "      <td>5.0</td>\n",
              "      <td>673780.0</td>\n",
              "      <td>Drama</td>\n",
              "      <td>4555</td>\n",
              "      <td>5.0</td>\n",
              "      <td>26.0</td>\n",
              "      <td>Not Rated</td>\n",
              "      <td>10000.0</td>\n",
              "      <td>2000.0</td>\n",
              "      <td>2005.803481</td>\n",
              "      <td>7.5</td>\n",
              "      <td>697.000000</td>\n",
              "    </tr>\n",
              "    <tr>\n",
              "      <th>5033</th>\n",
              "      <td>143.0</td>\n",
              "      <td>77.0</td>\n",
              "      <td>291.000000</td>\n",
              "      <td>8.000000</td>\n",
              "      <td>291.0</td>\n",
              "      <td>424760.0</td>\n",
              "      <td>Drama|Sci-Fi|Thriller</td>\n",
              "      <td>72639</td>\n",
              "      <td>368.0</td>\n",
              "      <td>371.0</td>\n",
              "      <td>PG-13</td>\n",
              "      <td>7000.0</td>\n",
              "      <td>2004.0</td>\n",
              "      <td>45.000000</td>\n",
              "      <td>7.0</td>\n",
              "      <td>19000.000000</td>\n",
              "    </tr>\n",
              "    <tr>\n",
              "      <th>5035</th>\n",
              "      <td>56.0</td>\n",
              "      <td>81.0</td>\n",
              "      <td>969.903568</td>\n",
              "      <td>6.000000</td>\n",
              "      <td>121.0</td>\n",
              "      <td>2040920.0</td>\n",
              "      <td>Action|Crime|Drama|Romance|Thriller</td>\n",
              "      <td>52055</td>\n",
              "      <td>147.0</td>\n",
              "      <td>130.0</td>\n",
              "      <td>R</td>\n",
              "      <td>7000.0</td>\n",
              "      <td>1992.0</td>\n",
              "      <td>20.000000</td>\n",
              "      <td>6.9</td>\n",
              "      <td>17343.839126</td>\n",
              "    </tr>\n",
              "    <tr>\n",
              "      <th>5042</th>\n",
              "      <td>43.0</td>\n",
              "      <td>90.0</td>\n",
              "      <td>16.000000</td>\n",
              "      <td>16.000000</td>\n",
              "      <td>86.0</td>\n",
              "      <td>85222.0</td>\n",
              "      <td>Documentary</td>\n",
              "      <td>4285</td>\n",
              "      <td>163.0</td>\n",
              "      <td>84.0</td>\n",
              "      <td>PG</td>\n",
              "      <td>1100.0</td>\n",
              "      <td>2004.0</td>\n",
              "      <td>23.000000</td>\n",
              "      <td>6.6</td>\n",
              "      <td>456.000000</td>\n",
              "    </tr>\n",
              "  </tbody>\n",
              "</table>\n",
              "<p>3751 rows × 16 columns</p>\n",
              "</div>"
            ],
            "text/plain": [
              "      num_critic_for_reviews  duration  ...  imdb_score  movie_facebook_likes\n",
              "0                      723.0     178.0  ...         7.9          33000.000000\n",
              "1                      302.0     169.0  ...         7.1          17343.839126\n",
              "2                      602.0     148.0  ...         6.8          85000.000000\n",
              "3                      813.0     164.0  ...         8.5         164000.000000\n",
              "5                      462.0     132.0  ...         6.6          24000.000000\n",
              "...                      ...       ...  ...         ...                   ...\n",
              "5026                    81.0     110.0  ...         6.9            171.000000\n",
              "5027                    64.0      90.0  ...         7.5            697.000000\n",
              "5033                   143.0      77.0  ...         7.0          19000.000000\n",
              "5035                    56.0      81.0  ...         6.9          17343.839126\n",
              "5042                    43.0      90.0  ...         6.6            456.000000\n",
              "\n",
              "[3751 rows x 16 columns]"
            ]
          },
          "metadata": {
            "tags": []
          },
          "execution_count": 37
        }
      ]
    },
    {
      "cell_type": "code",
      "metadata": {
        "id": "2DE6eW_8Va9D"
      },
      "source": [
        "# classification_data['imdb_score']=classification_data.apply(lambda row:'D' if ( float(row.imdb_score)>=0 and float(row.imdb_score)<5) else ('C' if (float(row.imdb_score)>=5 and float(row.imdb_score)<6) else ('B' if (float(row.imdb_score)>=6 and float(row.imdb_score)<6.5) else ('B+' if (row.imdb_score>=6.5 and float(row.imdb_score)<7) else ('A' if (float(row.imdb_score)>=7 and float(row.imdb_score)<7.5) else ('A+' if (float(row.imdb_score)>=7.5 and float(row.imdb_score)<8) else ('A++' if (float(row.imdb_score)>=8 and float(row.imdb_score)<=10) else 0))) )))  , axis = 1)"
      ],
      "execution_count": null,
      "outputs": []
    },
    {
      "cell_type": "code",
      "metadata": {
        "id": "3lUObk3mve7e"
      },
      "source": [
        "classification_data['imdb_score']=classification_data.apply(lambda row:'E' if ( float(row.imdb_score)>=0 and float(row.imdb_score)<5) else ('D' if (float(row.imdb_score)>=5 and float(row.imdb_score)<6) else ('C' if (float(row.imdb_score)>=6 and float(row.imdb_score)<7) else ('B' if (row.imdb_score>=7 and float(row.imdb_score)<8) else ('A' if (float(row.imdb_score)>=8 and float(row.imdb_score)<10) else 0) )))  , axis = 1)"
      ],
      "execution_count": null,
      "outputs": []
    },
    {
      "cell_type": "code",
      "metadata": {
        "id": "LJ0aprPqVeLv"
      },
      "source": [
        "# classification_data['imdb_score']=classification_data.apply(lambda row:'E' if ( float(row.imdb_score)>=0 and float(row.imdb_score)<2) else ('D' if (float(row.imdb_score)>=2 and float(row.imdb_score)<4) else ('C' if (float(row.imdb_score)>=4 and float(row.imdb_score)<6) else ('B' if (row.imdb_score>=6 and float(row.imdb_score)<8) else ('A' if (float(row.imdb_score)>=8 and float(row.imdb_score)<10) else 0) )))  , axis = 1)"
      ],
      "execution_count": null,
      "outputs": []
    },
    {
      "cell_type": "code",
      "metadata": {
        "id": "-olUYv8pLyRW",
        "outputId": "fe4064a1-f490-4b44-8816-32735defe48e",
        "colab": {
          "base_uri": "https://localhost:8080/",
          "height": 247
        }
      },
      "source": [
        "classification_data.groupby('imdb_score').count()"
      ],
      "execution_count": null,
      "outputs": [
        {
          "output_type": "execute_result",
          "data": {
            "text/html": [
              "<div>\n",
              "<style scoped>\n",
              "    .dataframe tbody tr th:only-of-type {\n",
              "        vertical-align: middle;\n",
              "    }\n",
              "\n",
              "    .dataframe tbody tr th {\n",
              "        vertical-align: top;\n",
              "    }\n",
              "\n",
              "    .dataframe thead th {\n",
              "        text-align: right;\n",
              "    }\n",
              "</style>\n",
              "<table border=\"1\" class=\"dataframe\">\n",
              "  <thead>\n",
              "    <tr style=\"text-align: right;\">\n",
              "      <th></th>\n",
              "      <th>num_critic_for_reviews</th>\n",
              "      <th>duration</th>\n",
              "      <th>director_facebook_likes</th>\n",
              "      <th>actor_3_facebook_likes</th>\n",
              "      <th>actor_1_facebook_likes</th>\n",
              "      <th>gross</th>\n",
              "      <th>genres</th>\n",
              "      <th>num_voted_users</th>\n",
              "      <th>cast_total_facebook_likes</th>\n",
              "      <th>num_user_for_reviews</th>\n",
              "      <th>content_rating</th>\n",
              "      <th>budget</th>\n",
              "      <th>title_year</th>\n",
              "      <th>actor_2_facebook_likes</th>\n",
              "      <th>movie_facebook_likes</th>\n",
              "    </tr>\n",
              "    <tr>\n",
              "      <th>imdb_score</th>\n",
              "      <th></th>\n",
              "      <th></th>\n",
              "      <th></th>\n",
              "      <th></th>\n",
              "      <th></th>\n",
              "      <th></th>\n",
              "      <th></th>\n",
              "      <th></th>\n",
              "      <th></th>\n",
              "      <th></th>\n",
              "      <th></th>\n",
              "      <th></th>\n",
              "      <th></th>\n",
              "      <th></th>\n",
              "      <th></th>\n",
              "    </tr>\n",
              "  </thead>\n",
              "  <tbody>\n",
              "    <tr>\n",
              "      <th>A</th>\n",
              "      <td>211</td>\n",
              "      <td>211</td>\n",
              "      <td>211</td>\n",
              "      <td>211</td>\n",
              "      <td>211</td>\n",
              "      <td>211</td>\n",
              "      <td>211</td>\n",
              "      <td>211</td>\n",
              "      <td>211</td>\n",
              "      <td>211</td>\n",
              "      <td>211</td>\n",
              "      <td>211</td>\n",
              "      <td>211</td>\n",
              "      <td>211</td>\n",
              "      <td>211</td>\n",
              "    </tr>\n",
              "    <tr>\n",
              "      <th>B</th>\n",
              "      <td>1070</td>\n",
              "      <td>1070</td>\n",
              "      <td>1070</td>\n",
              "      <td>1070</td>\n",
              "      <td>1070</td>\n",
              "      <td>1070</td>\n",
              "      <td>1070</td>\n",
              "      <td>1070</td>\n",
              "      <td>1070</td>\n",
              "      <td>1070</td>\n",
              "      <td>1070</td>\n",
              "      <td>1070</td>\n",
              "      <td>1070</td>\n",
              "      <td>1070</td>\n",
              "      <td>1070</td>\n",
              "    </tr>\n",
              "    <tr>\n",
              "      <th>C</th>\n",
              "      <td>1424</td>\n",
              "      <td>1424</td>\n",
              "      <td>1424</td>\n",
              "      <td>1424</td>\n",
              "      <td>1424</td>\n",
              "      <td>1424</td>\n",
              "      <td>1424</td>\n",
              "      <td>1424</td>\n",
              "      <td>1424</td>\n",
              "      <td>1424</td>\n",
              "      <td>1424</td>\n",
              "      <td>1424</td>\n",
              "      <td>1424</td>\n",
              "      <td>1424</td>\n",
              "      <td>1424</td>\n",
              "    </tr>\n",
              "    <tr>\n",
              "      <th>D</th>\n",
              "      <td>752</td>\n",
              "      <td>752</td>\n",
              "      <td>752</td>\n",
              "      <td>752</td>\n",
              "      <td>752</td>\n",
              "      <td>752</td>\n",
              "      <td>752</td>\n",
              "      <td>752</td>\n",
              "      <td>752</td>\n",
              "      <td>752</td>\n",
              "      <td>752</td>\n",
              "      <td>752</td>\n",
              "      <td>752</td>\n",
              "      <td>752</td>\n",
              "      <td>752</td>\n",
              "    </tr>\n",
              "    <tr>\n",
              "      <th>E</th>\n",
              "      <td>294</td>\n",
              "      <td>294</td>\n",
              "      <td>294</td>\n",
              "      <td>294</td>\n",
              "      <td>294</td>\n",
              "      <td>294</td>\n",
              "      <td>294</td>\n",
              "      <td>294</td>\n",
              "      <td>294</td>\n",
              "      <td>294</td>\n",
              "      <td>294</td>\n",
              "      <td>294</td>\n",
              "      <td>294</td>\n",
              "      <td>294</td>\n",
              "      <td>294</td>\n",
              "    </tr>\n",
              "  </tbody>\n",
              "</table>\n",
              "</div>"
            ],
            "text/plain": [
              "            num_critic_for_reviews  ...  movie_facebook_likes\n",
              "imdb_score                          ...                      \n",
              "A                              211  ...                   211\n",
              "B                             1070  ...                  1070\n",
              "C                             1424  ...                  1424\n",
              "D                              752  ...                   752\n",
              "E                              294  ...                   294\n",
              "\n",
              "[5 rows x 15 columns]"
            ]
          },
          "metadata": {
            "tags": []
          },
          "execution_count": 41
        }
      ]
    },
    {
      "cell_type": "code",
      "metadata": {
        "id": "kBrU_ArQ_n3I",
        "outputId": "6554dfd1-bd57-4db8-8727-25be86b29299",
        "colab": {
          "base_uri": "https://localhost:8080/",
          "height": 684
        }
      },
      "source": [
        "# classification_data\n",
        "import seaborn as sns\n",
        "corr = classification_data.corr()\n",
        "plt.figure(figsize = (16,10))\n",
        "ax = sns.heatmap(\n",
        "    corr, \n",
        "    vmin=-1, vmax=1, center=0,\n",
        "    cmap=sns.diverging_palette(0, 300,s=90, n=20),\n",
        "    square=True,linewidths=.5,annot=True\n",
        ")\n",
        "ax.set_xticklabels(\n",
        "    ax.get_xticklabels(),\n",
        "    rotation=45,\n",
        "    horizontalalignment='right'\n",
        ");\n",
        "# plt.figure(figsize = (16,5))\n",
        "# Var_Corr = classification_data.corr()\n",
        "# # plot the heatmap and annotation on it\n",
        "# sns.heatmap(Var_Corr, xticklabels=Var_Corr.columns, yticklabels=Var_Corr.columns)"
      ],
      "execution_count": null,
      "outputs": [
        {
          "output_type": "display_data",
          "data": {
            "image/png": "[encoded data removed]",
            "text/plain": [
              "<Figure size 1152x720 with 2 Axes>"
            ]
          },
          "metadata": {
            "tags": []
          }
        }
      ]
    },
    {
      "cell_type": "markdown",
      "metadata": {
        "id": "werMRCf_JEKq"
      },
      "source": [
        "From Attributes Correlation Heatmap we can see that few atributes are highly corelated to each othes as:\n",
        "\n",
        "1.cast_total_facebook_likes and actor_1_facebook_likes(.95)\n",
        "\n",
        "2.num_voted_users and num_users_for_reviews (.75)\n",
        "\n",
        "3.num_voted_users and num_critic_for_reviews (.59)\n",
        "\n",
        "4.num_users_for_reviews and num_critic_for_reviews(.56)\n",
        "operation => \n",
        "\n",
        "      A.remove cast_total_facebook_likes\n",
        "\n",
        "      B.add coulumn others_facebook_likes=sum(actor_2_facebook_likes+actor_3_facebook_likes)\n",
        "\n",
        "      C. add column num_user_per_critic=num_user_for_reviews/num_critic_for_reviews\n",
        "      D. remove columns num_user_for_reviews and num_critic_for_reviews"
      ]
    },
    {
      "cell_type": "code",
      "metadata": {
        "id": "f6X68OGyW8Yk"
      },
      "source": [
        "backup_classification_data=classification_data\n"
      ],
      "execution_count": null,
      "outputs": []
    },
    {
      "cell_type": "code",
      "metadata": {
        "id": "z9CcM838FK2u"
      },
      "source": [
        ""
      ],
      "execution_count": null,
      "outputs": []
    },
    {
      "cell_type": "code",
      "metadata": {
        "id": "gyh-JbzJXE6Q"
      },
      "source": [
        "classification_data=backup_classification_data"
      ],
      "execution_count": null,
      "outputs": []
    },
    {
      "cell_type": "code",
      "metadata": {
        "id": "-5pDDWLDD2KU"
      },
      "source": [
        "\n",
        "classification_data['others_facebook_likes'] = classification_data.apply(lambda row: row.actor_2_facebook_likes + row.actor_3_facebook_likes, axis = 1)\n",
        "classification_data['num_user_per_critic'] = classification_data.apply(lambda row: (row.num_user_for_reviews/row.num_critic_for_reviews), axis = 1) \n",
        "\n",
        "for col in [\"cast_total_facebook_likes\",\"num_user_for_reviews\",\"num_critic_for_reviews\",\"actor_2_facebook_likes\",\"actor_3_facebook_likes\",\"genres\"]:\n",
        "  if (col in classification_data.columns):\n",
        "      classification_data=classification_data.drop(columns=[col])\n",
        "\n",
        "cols = classification_data.columns.tolist()\n",
        "cols.remove('imdb_score')\n",
        "cols.append('imdb_score')\n",
        "classification_data=classification_data[cols]\n",
        "\n",
        "# tf2\n",
        "# classification_data"
      ],
      "execution_count": null,
      "outputs": []
    },
    {
      "cell_type": "code",
      "metadata": {
        "id": "GdPWIiqfFw3o",
        "outputId": "80da9e72-4028-48e8-99c9-d647bbdc08ab",
        "colab": {
          "base_uri": "https://localhost:8080/",
          "height": 676
        }
      },
      "source": [
        "import seaborn as sns\n",
        "corr = classification_data.corr()\n",
        "plt.figure(figsize = (16,10))\n",
        "ax = sns.heatmap(\n",
        "    corr, \n",
        "    vmin=-1, vmax=1, center=0,\n",
        "    cmap=sns.diverging_palette(0, 300,s=90, n=20),\n",
        "    square=True,linewidths=.5,annot=True\n",
        ")\n",
        "ax.set_xticklabels(\n",
        "    ax.get_xticklabels(),\n",
        "    rotation=45,\n",
        "    horizontalalignment='right'\n",
        ");"
      ],
      "execution_count": null,
      "outputs": [
        {
          "output_type": "display_data",
          "data": {
            "image/png": "[encoded data removed]",
            "text/plain": [
              "<Figure size 1152x720 with 2 Axes>"
            ]
          },
          "metadata": {
            "tags": []
          }
        }
      ]
    },
    {
      "cell_type": "markdown",
      "metadata": {
        "id": "_A05VAlgHDb8"
      },
      "source": [
        "# Algorithem Implementation"
      ]
    },
    {
      "cell_type": "code",
      "metadata": {
        "id": "LFEwg8wS0Dkv"
      },
      "source": [
        "# from sklearn.tree import DecisionTreeClassifier, export_graphviz\n",
        "\n",
        "from sklearn.tree import DecisionTreeClassifier\n",
        "from sklearn.metrics import accuracy_score\n",
        "from sklearn import tree\n",
        "from sklearn.model_selection import cross_val_score,train_test_split\n",
        "from sklearn import preprocessing\n",
        "from sklearn import metrics\n",
        "\n",
        "def encode_the_data(data):\n",
        "    for col in data.columns:\n",
        "        if data.dtypes[col] == \"object\":\n",
        "            le = preprocessing.LabelEncoder()\n",
        "#             le.fit(data[col])\n",
        "#             data[col] = le.transform(data[col].astype(str))\n",
        "            data[col] = le.fit_transform(data[col].astype(str))\n",
        "    return data\n",
        "# # classification_data_en\n",
        "classification_data_en=encode_the_data(classification_data)\n",
        "# classification_data_en=classification_data\n",
        "X=classification_data_en.loc[:, classification_data_en.columns != 'imdb_score']\n",
        "y=classification_data_en['imdb_score']\n",
        "X_train, X_test, y_train, y_test = train_test_split(X, y, test_size=0.3, random_state=1)"
      ],
      "execution_count": null,
      "outputs": []
    },
    {
      "cell_type": "markdown",
      "metadata": {
        "id": "4cIgKkdYWYtB"
      },
      "source": [
        "# **GaussianNB Naive_bayes Classifier**"
      ]
    },
    {
      "cell_type": "code",
      "metadata": {
        "id": "YV8S2vv5WPGp",
        "outputId": "8880f766-3093-4780-aedf-b05b5ab1c770",
        "colab": {
          "base_uri": "https://localhost:8080/",
          "height": 34
        }
      },
      "source": [
        "from sklearn.naive_bayes import GaussianNB\n",
        "model=GaussianNB()\n",
        "# X_train, X_test, y_train, y_test\n",
        "model.fit(X_train,y_train)\n",
        "# multinom_naive_bayes,X_train,Y_train\n",
        "naive_Y_predict=model.predict(X_test)\n",
        "naive_bayes_accuracy=metrics.accuracy_score(y_test,naive_Y_predict)\n",
        "naive_bayes_accuracy"
      ],
      "execution_count": null,
      "outputs": [
        {
          "output_type": "execute_result",
          "data": {
            "text/plain": [
              "0.2664298401420959"
            ]
          },
          "metadata": {
            "tags": []
          },
          "execution_count": 48
        }
      ]
    },
    {
      "cell_type": "markdown",
      "metadata": {
        "id": "95ralG7SWEdx"
      },
      "source": [
        "# **Decision Tree Classifier**\n"
      ]
    },
    {
      "cell_type": "markdown",
      "metadata": {
        "id": "PWhITcx08tG2"
      },
      "source": [
        "**Accuracy with Decision Tree Classifier**"
      ]
    },
    {
      "cell_type": "code",
      "metadata": {
        "id": "jJnLNsCm-J-W"
      },
      "source": [
        "depth_of_tree_x=[]\n",
        "accuracy_of_tree_y=[]\n",
        "depth_of_tree=[]\n",
        "test_accuracy_of_tree_y=[]\n",
        "# 5,100,10\n",
        "for depthis in range(3,10):\n",
        "    decision_tree = tree.DecisionTreeClassifier(criterion = \"gini\",max_depth=depthis)\n",
        "    decision_tree.fit(X_train,Y_train)\n",
        "    decision_tree_score_is = cross_val_score(estimator=decision_tree, X=X_train, y=y_train, cv=5)\n",
        "    depth_of_tree_x.append(depthis)\n",
        "    accuracy_of_tree_y.append(decision_tree_score_is.mean())\n",
        "#     print(decision_tree_score_is)\n",
        "#     print(decision_tree_score_is.mean())\n",
        "    depth_of_tree.append((depthis,decision_tree_score_is.mean()))\n",
        "#     decision_tree_score_is = cross_val_score(estimator=decision_tree, X=X_train, y=Y_train, cv=10, n_jobs=4)    \n",
        "    \n",
        "    Y_test_pred = decision_tree.predict(X_test)\n",
        "    test_decision_accuracy_is=metrics.accuracy_score(y_test,Y_test_pred)\n",
        "    test_accuracy_of_tree_y.append(test_decision_accuracy_is)"
      ],
      "execution_count": null,
      "outputs": []
    },
    {
      "cell_type": "code",
      "metadata": {
        "id": "5IIGoEUs-V7B"
      },
      "source": [
        "import matplotlib.pyplot as plt\n",
        "plt.plot(depth_of_tree_x, accuracy_of_tree_y)\n",
        "plt.xlabel(\"Depth\")\n",
        "plt.ylabel(\"Accuracy\")\n",
        "plt.title('Accuracy of tarining data with cross validation')\n",
        "plt.show()\n",
        "plt.plot(depth_of_tree_x, test_accuracy_of_tree_y)\n",
        "plt.xlabel(\"Depth\")\n",
        "plt.ylabel(\"Accuracy\")\n",
        "plt.title('Accuracy of test data')\n",
        "plt.show()"
      ],
      "execution_count": null,
      "outputs": []
    },
    {
      "cell_type": "code",
      "metadata": {
        "id": "edvzYF91KHad",
        "outputId": "233d4019-e53d-4714-bc72-1a19733529ca",
        "colab": {
          "base_uri": "https://localhost:8080/",
          "height": 34
        }
      },
      "source": [
        "\n",
        "\n",
        "decision_tree = tree.DecisionTreeClassifier(criterion = \"gini\")\n",
        "decision_tree.fit(X_train,y_train)\n",
        "y_test_pred = decision_tree.predict(X_test)\n",
        "test_decision_accuracy_is=metrics.accuracy_score(y_test,y_test_pred)\n",
        "# decision_tree_score_is = cross_val_score(estimator=decision_tree, X=X_train, y=Y_train, cv=5)\n",
        "# depth_of_tree_x.append(depthis)\n",
        "# accuracy_of_tree_y.append(decision_tree_score_is.mean())\n",
        "# classification_data_en.columns\n",
        "test_decision_accuracy_is"
      ],
      "execution_count": null,
      "outputs": [
        {
          "output_type": "execute_result",
          "data": {
            "text/plain": [
              "0.4422735346358792"
            ]
          },
          "metadata": {
            "tags": []
          },
          "execution_count": 49
        }
      ]
    },
    {
      "cell_type": "markdown",
      "metadata": {
        "id": "AQpgGIP7C6J6"
      },
      "source": [
        "**Cross Validation k-fold**"
      ]
    },
    {
      "cell_type": "code",
      "metadata": {
        "id": "F-bFpiTlsXUq",
        "outputId": "c6950d39-7555-4f1b-a93e-0ae092629ca3",
        "colab": {
          "base_uri": "https://localhost:8080/",
          "height": 34
        }
      },
      "source": [
        "# by using cross validation\n",
        "a=X\n",
        "b=y\n",
        "decision_tree_score_is = cross_val_score(estimator=decision_tree, X=a, y=b, cv=5)\n",
        "decision_tree_score_is"
      ],
      "execution_count": null,
      "outputs": [
        {
          "output_type": "execute_result",
          "data": {
            "text/plain": [
              "array([0.43882979, 0.4207723 , 0.472     , 0.39333333, 0.39171123])"
            ]
          },
          "metadata": {
            "tags": []
          },
          "execution_count": 50
        }
      ]
    },
    {
      "cell_type": "markdown",
      "metadata": {
        "id": "d-u9tmrJDFYj"
      },
      "source": [
        "**Decision Tree Creation**"
      ]
    },
    {
      "cell_type": "code",
      "metadata": {
        "id": "qJRjODkJh7OE"
      },
      "source": [
        "# from sklearn.tree import export_graphviz\n",
        "# from sklearn.externals.six import StringIO  \n",
        "# from IPython.display import Image  \n",
        "# import pydotplus\n",
        "# feature_cols=list(X.columns)\n",
        "# dot_data = StringIO()\n",
        "# export_graphviz(decision_tree, out_file=dot_data,  \n",
        "#                 filled=True, rounded=True,\n",
        "#                 special_characters=True,feature_names = feature_cols,class_names=['A++','A+','A','B++','B','C','D'])\n",
        "# graph = pydotplus.graph_from_dot_data(dot_data.getvalue())  \n",
        "# graph.write_png('IMDB.png')\n",
        "# Image(graph.create_png())"
      ],
      "execution_count": null,
      "outputs": []
    },
    {
      "cell_type": "markdown",
      "metadata": {
        "id": "fSJqFbW1DPjn"
      },
      "source": [
        "# **GaussianNB Naive_bayes Classifier**"
      ]
    },
    {
      "cell_type": "code",
      "metadata": {
        "id": "W1IDau2I8DA1",
        "outputId": "415d0d6d-2f19-4254-b108-94f3c88cb786",
        "colab": {
          "base_uri": "https://localhost:8080/",
          "height": 34
        }
      },
      "source": [
        "from sklearn.naive_bayes import GaussianNB\n",
        "model=GaussianNB()\n",
        "# X_train, X_test, y_train, y_test\n",
        "model.fit(X_train,y_train)\n",
        "# multinom_naive_bayes,X_train,Y_train\n",
        "naive_Y_predict=model.predict(X_test)\n",
        "naive_bayes_accuracy=metrics.accuracy_score(y_test,naive_Y_predict)\n",
        "naive_bayes_accuracy"
      ],
      "execution_count": null,
      "outputs": [
        {
          "output_type": "execute_result",
          "data": {
            "text/plain": [
              "0.2664298401420959"
            ]
          },
          "metadata": {
            "tags": []
          },
          "execution_count": 52
        }
      ]
    },
    {
      "cell_type": "markdown",
      "metadata": {
        "id": "CMpqEAiK9PNC"
      },
      "source": [
        "# **K-NN Classifier**"
      ]
    },
    {
      "cell_type": "code",
      "metadata": {
        "id": "KUOlpPXTt_yD"
      },
      "source": [
        "from sklearn.neighbors import KNeighborsClassifier\n",
        "range_k=range(1,100)\n",
        "score_list=[]\n",
        "for i in range_k:\n",
        "   knn=KNeighborsClassifier(n_neighbors=i)\n",
        "   knn.fit(X_train,y_train)\n",
        "   ypred=knn.predict(X_test)\n",
        "   score_list.append(metrics.accuracy_score(y_test,ypred))\n"
      ],
      "execution_count": null,
      "outputs": []
    },
    {
      "cell_type": "code",
      "metadata": {
        "id": "oLDB9Fhh0zTn",
        "outputId": "35198a7d-e0bc-40c1-d561-d60171ac1ed2",
        "colab": {
          "base_uri": "https://localhost:8080/",
          "height": 296
        }
      },
      "source": [
        "plt.plot(range_k,score_list)\n",
        "plt.xlabel('K in Knn')\n",
        "plt.ylabel(\"Testing Accuracy\")"
      ],
      "execution_count": null,
      "outputs": [
        {
          "output_type": "execute_result",
          "data": {
            "text/plain": [
              "Text(0, 0.5, 'Testing Accuracy')"
            ]
          },
          "metadata": {
            "tags": []
          },
          "execution_count": 54
        },
        {
          "output_type": "display_data",
          "data": {
            "image/png": "[encoded data removed]",
            "text/plain": [
              "<Figure size 432x288 with 1 Axes>"
            ]
          },
          "metadata": {
            "tags": []
          }
        }
      ]
    },
    {
      "cell_type": "code",
      "metadata": {
        "id": "SfBtBmKH6c6Z",
        "outputId": "b337ebb7-e1da-42de-af3d-9c7c89de2e0b",
        "colab": {
          "base_uri": "https://localhost:8080/",
          "height": 34
        }
      },
      "source": [
        "knn=KNeighborsClassifier(n_neighbors=94)\n",
        "knn.fit(X_train,y_train)\n",
        "ypred=knn.predict(X_test)\n",
        "metrics.accuracy_score(y_test,ypred)"
      ],
      "execution_count": null,
      "outputs": [
        {
          "output_type": "execute_result",
          "data": {
            "text/plain": [
              "0.4005328596802842"
            ]
          },
          "metadata": {
            "tags": []
          },
          "execution_count": 55
        }
      ]
    },
    {
      "cell_type": "markdown",
      "metadata": {
        "id": "PNfns9t-2xwA"
      },
      "source": [
        "Here we can see we are getting best accuracy when k=45"
      ]
    },
    {
      "cell_type": "markdown",
      "metadata": {
        "id": "Efw93gcz9o7k"
      },
      "source": [
        "# **Classification using Support Vector Machines**"
      ]
    },
    {
      "cell_type": "code",
      "metadata": {
        "id": "Ie42bpTQ3JZI",
        "outputId": "340f0959-5fc3-458a-d1cf-17795bd420db",
        "colab": {
          "base_uri": "https://localhost:8080/",
          "height": 34
        }
      },
      "source": [
        "from sklearn import svm\n",
        "#Create a svm Classifier\n",
        "clf = svm.SVC(gamma='scale') \n",
        "#Train the model using the training sets\n",
        "clf.fit(X_train, y_train)\n",
        "\n",
        "#Predict the response for test dataset\n",
        "y_pred = clf.predict(X_test)\n",
        "print(\"Accuracy:\",metrics.accuracy_score(y_test, y_pred))"
      ],
      "execution_count": null,
      "outputs": [
        {
          "output_type": "stream",
          "text": [
            "Accuracy: 0.3756660746003552\n"
          ],
          "name": "stdout"
        }
      ]
    },
    {
      "cell_type": "markdown",
      "metadata": {
        "id": "iqobl_AreboY"
      },
      "source": [
        "# **Random Forest with and without LDA(linear discriminant analysis )**"
      ]
    },
    {
      "cell_type": "markdown",
      "metadata": {
        "id": "oET1Qc_ses5V"
      },
      "source": [
        "**Without LDA**"
      ]
    },
    {
      "cell_type": "code",
      "metadata": {
        "id": "hyRy0qz5bxug",
        "outputId": "3c29b1b3-c0c6-4af4-cef4-17c4b30718bc",
        "colab": {
          "base_uri": "https://localhost:8080/",
          "height": 70
        }
      },
      "source": [
        "from sklearn.ensemble import RandomForestClassifier\n",
        "\n",
        "classifier = RandomForestClassifier(max_depth=2, random_state=0)\n",
        "\n",
        "classifier.fit(X_train, y_train)\n",
        "y_pred = classifier.predict(X_test)\n",
        "print(\"Accuracy:\",metrics.accuracy_score(y_test, y_pred))"
      ],
      "execution_count": null,
      "outputs": [
        {
          "output_type": "stream",
          "text": [
            "Accuracy: 0.42095914742451157\n"
          ],
          "name": "stdout"
        },
        {
          "output_type": "stream",
          "text": [
            "/usr/local/lib/python3.6/dist-packages/sklearn/ensemble/forest.py:245: FutureWarning: The default value of n_estimators will change from 10 in version 0.20 to 100 in 0.22.\n",
            "  \"10 in version 0.20 to 100 in 0.22.\", FutureWarning)\n"
          ],
          "name": "stderr"
        }
      ]
    },
    {
      "cell_type": "markdown",
      "metadata": {
        "id": "wt-S7fZAe0xW"
      },
      "source": [
        "**With LDA**"
      ]
    },
    {
      "cell_type": "code",
      "metadata": {
        "id": "QGlHLaaca2xH"
      },
      "source": [
        "from sklearn.discriminant_analysis import LinearDiscriminantAnalysis as LDA\n",
        "\n",
        "lda = LDA(n_components=1)\n",
        "X_trainlda = lda.fit_transform(X_train, y_train)\n",
        "X_testlda = lda.transform(X_test)\n",
        "#LDA tries to reduce dimensions of the feature set while retaining the information that discriminates output classes. LDA tries to find a decision boundary around each cluster of a class."
      ],
      "execution_count": null,
      "outputs": []
    },
    {
      "cell_type": "code",
      "metadata": {
        "id": "XFUa4T3tbqAH",
        "outputId": "e15700d0-dfe8-448f-9b3d-b617b4a534f7",
        "colab": {
          "base_uri": "https://localhost:8080/",
          "height": 70
        }
      },
      "source": [
        "from sklearn.ensemble import RandomForestClassifier\n",
        "\n",
        "classifier = RandomForestClassifier(max_depth=2, random_state=0)\n",
        "\n",
        "classifier.fit(X_trainlda, y_train)\n",
        "y_pred = classifier.predict(X_testlda)\n",
        "print(\"Accuracy:\",metrics.accuracy_score(y_test, y_pred))"
      ],
      "execution_count": null,
      "outputs": [
        {
          "output_type": "stream",
          "text": [
            "Accuracy: 0.4573712255772647\n"
          ],
          "name": "stdout"
        },
        {
          "output_type": "stream",
          "text": [
            "/usr/local/lib/python3.6/dist-packages/sklearn/ensemble/forest.py:245: FutureWarning: The default value of n_estimators will change from 10 in version 0.20 to 100 in 0.22.\n",
            "  \"10 in version 0.20 to 100 in 0.22.\", FutureWarning)\n"
          ],
          "name": "stderr"
        }
      ]
    },
    {
      "cell_type": "code",
      "metadata": {
        "id": "y9W1McdrKM7o"
      },
      "source": [
        "# classification_data['imdb_score'].uniquecount()\n",
        "# classification_data.groupby('imdb_score').count()"
      ],
      "execution_count": null,
      "outputs": []
    },
    {
      "cell_type": "code",
      "metadata": {
        "id": "LSE3CwEcl_DY",
        "outputId": "5485edfd-3e41-470b-c4e4-bf8ba52720a1",
        "colab": {
          "base_uri": "https://localhost:8080/",
          "height": 34
        }
      },
      "source": [
        "float(\"7.8\")"
      ],
      "execution_count": null,
      "outputs": [
        {
          "output_type": "execute_result",
          "data": {
            "text/plain": [
              "7.8"
            ]
          },
          "metadata": {
            "tags": []
          },
          "execution_count": 61
        }
      ]
    },
    {
      "cell_type": "code",
      "metadata": {
        "id": "YZ1-A_4-k-Y7"
      },
      "source": [
        ""
      ],
      "execution_count": null,
      "outputs": []
    }
  ]
}